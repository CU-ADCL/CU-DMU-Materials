{
 "cells": [
  {
   "cell_type": "markdown",
   "id": "bab25e97",
   "metadata": {},
   "source": [
    "# Composite Types"
   ]
  },
  {
   "cell_type": "code",
   "execution_count": 1,
   "id": "dec8f1b5",
   "metadata": {},
   "outputs": [],
   "source": [
    "struct MyVec1\n",
    "    x\n",
    "    y\n",
    "end"
   ]
  },
  {
   "cell_type": "code",
   "execution_count": 2,
   "id": "266ac549",
   "metadata": {},
   "outputs": [
    {
     "data": {
      "text/plain": [
       "MyVec1(1, 2)"
      ]
     },
     "metadata": {},
     "output_type": "display_data"
    }
   ],
   "source": [
    "v = MyVec1(1, 2)"
   ]
  },
  {
   "cell_type": "code",
   "execution_count": 4,
   "id": "25d9cb59",
   "metadata": {},
   "outputs": [
    {
     "data": {
      "text/plain": [
       "2"
      ]
     },
     "metadata": {},
     "output_type": "display_data"
    }
   ],
   "source": [
    "v.y"
   ]
  },
  {
   "cell_type": "code",
   "execution_count": 6,
   "id": "932306a4",
   "metadata": {},
   "outputs": [],
   "source": [
    "struct MyVec2\n",
    "    x::Float64\n",
    "    y::Float64\n",
    "end"
   ]
  },
  {
   "cell_type": "code",
   "execution_count": 7,
   "id": "cc7c84ce",
   "metadata": {},
   "outputs": [
    {
     "data": {
      "text/plain": [
       "MyVec2(1.0, 2.0)"
      ]
     },
     "metadata": {},
     "output_type": "display_data"
    }
   ],
   "source": [
    "MyVec2(1, 2)"
   ]
  },
  {
   "cell_type": "markdown",
   "id": "61591ff8",
   "metadata": {},
   "source": [
    "# Parameters"
   ]
  },
  {
   "cell_type": "code",
   "execution_count": 8,
   "id": "d6848cd6",
   "metadata": {},
   "outputs": [],
   "source": [
    "struct MyVec3{T}\n",
    "    x::T\n",
    "    y::T\n",
    "end"
   ]
  },
  {
   "cell_type": "code",
   "execution_count": 9,
   "id": "67fda4db",
   "metadata": {},
   "outputs": [
    {
     "data": {
      "text/plain": [
       "MyVec3{Float64}(1.0, 2.0)"
      ]
     },
     "metadata": {},
     "output_type": "display_data"
    }
   ],
   "source": [
    "MyVec3(1.0, 2.0)"
   ]
  },
  {
   "cell_type": "code",
   "execution_count": 10,
   "id": "a795b1e5",
   "metadata": {},
   "outputs": [
    {
     "data": {
      "text/plain": [
       "MyVec3{Int64}(1, 2)"
      ]
     },
     "metadata": {},
     "output_type": "display_data"
    }
   ],
   "source": [
    "v = MyVec3(1, 2)"
   ]
  },
  {
   "cell_type": "code",
   "execution_count": 11,
   "id": "ee9ca435",
   "metadata": {},
   "outputs": [
    {
     "ename": "MethodError",
     "evalue": "MethodError: no method matching MyVec3(::Int64, ::Float64)\nThe type `MyVec3` exists, but no method is defined for this combination of argument types when trying to construct it.\n\nClosest candidates are:\n  MyVec3(::T, !Matched::T) where T\n   @ Main ~/dev/dmu/notebooks/jl_notebook_cell_df34fa98e69747e1a8f8a730347b8e2f_X10sZmlsZQ==.jl:2\n",
     "output_type": "error",
     "traceback": [
      "MethodError: no method matching MyVec3(::Int64, ::Float64)\n",
      "The type `MyVec3` exists, but no method is defined for this combination of argument types when trying to construct it.\n",
      "\n",
      "Closest candidates are:\n",
      "  MyVec3(::T, !Matched::T) where T\n",
      "   @ Main ~/dev/dmu/notebooks/jl_notebook_cell_df34fa98e69747e1a8f8a730347b8e2f_X10sZmlsZQ==.jl:2\n",
      "\n",
      "\n",
      "Stacktrace:\n",
      " [1] top-level scope\n",
      "   @ ~/dev/dmu/notebooks/jl_notebook_cell_df34fa98e69747e1a8f8a730347b8e2f_X13sZmlsZQ==.jl:1"
     ]
    }
   ],
   "source": [
    "MyVec3(1, 2.0)"
   ]
  },
  {
   "cell_type": "code",
   "execution_count": 12,
   "id": "60bcfff9",
   "metadata": {},
   "outputs": [
    {
     "ename": "ErrorException",
     "evalue": "setfield!: immutable struct of type MyVec3 cannot be changed",
     "output_type": "error",
     "traceback": [
      "setfield!: immutable struct of type MyVec3 cannot be changed\n",
      "\n",
      "Stacktrace:\n",
      " [1] setproperty!(x::MyVec3{Int64}, f::Symbol, v::Int64)\n",
      "   @ Base ./Base.jl:53\n",
      " [2] top-level scope\n",
      "   @ ~/dev/dmu/notebooks/jl_notebook_cell_df34fa98e69747e1a8f8a730347b8e2f_X14sZmlsZQ==.jl:1"
     ]
    }
   ],
   "source": [
    "v.x += 2"
   ]
  },
  {
   "cell_type": "code",
   "execution_count": 13,
   "id": "1821ed80",
   "metadata": {},
   "outputs": [],
   "source": [
    "struct YourVec{T <: Number}\n",
    "    x::T\n",
    "    y::T\n",
    "    z::String\n",
    "end"
   ]
  },
  {
   "cell_type": "code",
   "execution_count": 14,
   "id": "1df1d342",
   "metadata": {},
   "outputs": [
    {
     "data": {
      "text/plain": [
       "YourVec{Int64}(1, 2, \"three\")"
      ]
     },
     "metadata": {},
     "output_type": "display_data"
    }
   ],
   "source": [
    "YourVec(1,2,\"three\")"
   ]
  },
  {
   "cell_type": "code",
   "execution_count": 15,
   "id": "eae5c986",
   "metadata": {},
   "outputs": [],
   "source": [
    "struct YourVec2{T1, T2}\n",
    "    x::T1\n",
    "    y::T1\n",
    "    z::T2\n",
    "end"
   ]
  },
  {
   "cell_type": "code",
   "execution_count": 16,
   "id": "f92275f1",
   "metadata": {},
   "outputs": [
    {
     "data": {
      "text/plain": [
       "YourVec2{Float32, ComplexF64}(1.0f0, 2.0f0, 3.0 + 0.0im)"
      ]
     },
     "metadata": {},
     "output_type": "display_data"
    }
   ],
   "source": [
    "YourVec2{Float32, ComplexF64}(1, 2, 3)"
   ]
  },
  {
   "cell_type": "markdown",
   "id": "e1ac565e",
   "metadata": {},
   "source": [
    "# Mutability"
   ]
  },
  {
   "cell_type": "code",
   "execution_count": 17,
   "id": "b4cf5f33",
   "metadata": {},
   "outputs": [],
   "source": [
    "mutable struct MyVec4{T}\n",
    "    x::T\n",
    "    y::T\n",
    "end"
   ]
  },
  {
   "cell_type": "code",
   "execution_count": 18,
   "id": "978c09fc",
   "metadata": {},
   "outputs": [
    {
     "data": {
      "text/plain": [
       "MyVec4{Int64}(1, 2)"
      ]
     },
     "metadata": {},
     "output_type": "display_data"
    }
   ],
   "source": [
    "v = MyVec4(1, 2)"
   ]
  },
  {
   "cell_type": "code",
   "execution_count": 19,
   "id": "984de95a",
   "metadata": {},
   "outputs": [
    {
     "data": {
      "text/plain": [
       "3"
      ]
     },
     "metadata": {},
     "output_type": "display_data"
    }
   ],
   "source": [
    "v.x += 2"
   ]
  },
  {
   "cell_type": "code",
   "execution_count": 20,
   "id": "6053439d",
   "metadata": {},
   "outputs": [
    {
     "data": {
      "text/plain": [
       "MyVec4{Int64}(3, 2)"
      ]
     },
     "metadata": {},
     "output_type": "display_data"
    }
   ],
   "source": [
    "v"
   ]
  },
  {
   "cell_type": "markdown",
   "id": "a054f097",
   "metadata": {},
   "source": [
    "**Major Downside** of mutability: mutable objects are usually allocated on the heap."
   ]
  },
  {
   "cell_type": "markdown",
   "id": "e65e1765",
   "metadata": {},
   "source": [
    "# Methods"
   ]
  },
  {
   "cell_type": "code",
   "execution_count": 21,
   "id": "3937d0e9",
   "metadata": {},
   "outputs": [
    {
     "data": {
      "text/plain": [
       "myplus (generic function with 1 method)"
      ]
     },
     "metadata": {},
     "output_type": "display_data"
    }
   ],
   "source": [
    "function myplus(a::MyVec3, b::MyVec3)\n",
    "    return MyVec3(a.x + b.x, a.y + b.y)\n",
    "end"
   ]
  },
  {
   "cell_type": "code",
   "execution_count": 22,
   "id": "f1f811f9",
   "metadata": {},
   "outputs": [
    {
     "data": {
      "text/plain": [
       "MyVec3{Int64}(4, 6)"
      ]
     },
     "metadata": {},
     "output_type": "display_data"
    }
   ],
   "source": [
    "myplus(MyVec3(1,2), MyVec3(3,4))"
   ]
  },
  {
   "cell_type": "markdown",
   "id": "9c815588",
   "metadata": {},
   "source": [
    "# Abstract Types"
   ]
  },
  {
   "cell_type": "code",
   "execution_count": 23,
   "id": "df903d73",
   "metadata": {},
   "outputs": [
    {
     "data": {
      "text/plain": [
       "AbstractVec"
      ]
     },
     "metadata": {},
     "output_type": "display_data"
    }
   ],
   "source": [
    "\"\"\"\n",
    "An AbstractVec represents a 2-d vector.\n",
    "\n",
    "New AbstractVec types should implement the methods horizontal(v) and vertical(v) to get the x and y coordinates\n",
    "\"\"\"\n",
    "abstract type AbstractVec end"
   ]
  },
  {
   "cell_type": "code",
   "execution_count": 24,
   "id": "f83ef948",
   "metadata": {},
   "outputs": [
    {
     "data": {
      "text/plain": [
       "vertical (generic function with 1 method)"
      ]
     },
     "metadata": {},
     "output_type": "display_data"
    }
   ],
   "source": [
    "struct Vec{T} <: AbstractVec\n",
    "    x::T\n",
    "    y::T\n",
    "end\n",
    "\n",
    "horizontal(v::Vec) = v.x\n",
    "vertical(v::Vec) = v.y"
   ]
  },
  {
   "cell_type": "code",
   "execution_count": 25,
   "id": "861c8cf3",
   "metadata": {},
   "outputs": [
    {
     "data": {
      "text/plain": [
       "vertical (generic function with 2 methods)"
      ]
     },
     "metadata": {},
     "output_type": "display_data"
    }
   ],
   "source": [
    "mutable struct MVec{T} <: AbstractVec\n",
    "    x::T\n",
    "    y::T\n",
    "end\n",
    "\n",
    "horizontal(v::MVec) = v.x\n",
    "vertical(v::MVec) = v.y"
   ]
  },
  {
   "cell_type": "code",
   "execution_count": 26,
   "id": "0b0d7904",
   "metadata": {},
   "outputs": [
    {
     "data": {
      "text/plain": [
       "myplus (generic function with 2 methods)"
      ]
     },
     "metadata": {},
     "output_type": "display_data"
    }
   ],
   "source": [
    "function myplus(a::AbstractVec, b::AbstractVec)\n",
    "    return typeof(a)(horizontal(a) + horizontal(b), vertical(a) + vertical(b))\n",
    "end"
   ]
  },
  {
   "cell_type": "code",
   "execution_count": 27,
   "id": "759774d1",
   "metadata": {},
   "outputs": [
    {
     "data": {
      "text/plain": [
       "Vec{Int64}(4, 6)"
      ]
     },
     "metadata": {},
     "output_type": "display_data"
    }
   ],
   "source": [
    "myplus(Vec(1,2), MVec(3,4))"
   ]
  },
  {
   "cell_type": "code",
   "execution_count": 28,
   "id": "bb429737",
   "metadata": {},
   "outputs": [
    {
     "data": {
      "text/plain": [
       "vertical (generic function with 3 methods)"
      ]
     },
     "metadata": {},
     "output_type": "display_data"
    }
   ],
   "source": [
    "struct ZeroVec <: AbstractVec end\n",
    "\n",
    "horizontal(::ZeroVec) = 0.0\n",
    "vertical(::ZeroVec) = 0.0"
   ]
  },
  {
   "cell_type": "code",
   "execution_count": 29,
   "id": "f18fe7b4",
   "metadata": {},
   "outputs": [
    {
     "data": {
      "text/plain": [
       "Vec{Int64}(1, 2)"
      ]
     },
     "metadata": {},
     "output_type": "display_data"
    }
   ],
   "source": [
    "myplus(Vec(1,2), ZeroVec())"
   ]
  },
  {
   "cell_type": "markdown",
   "id": "ed89a73c",
   "metadata": {},
   "source": [
    "# Adding methods to functions from another module"
   ]
  },
  {
   "cell_type": "code",
   "execution_count": 30,
   "id": "37c799c8",
   "metadata": {},
   "outputs": [
    {
     "data": {
      "text/latex": [
       "\\begin{verbatim}\n",
       "zero(x)\n",
       "zero(::Type)\n",
       "\\end{verbatim}\n",
       "Get the additive identity element for the type of \\texttt{x} (\\texttt{x} can also specify the type itself).\n",
       "\n",
       "See also \\href{@ref}{\\texttt{iszero}}, \\href{@ref}{\\texttt{one}}, \\href{@ref}{\\texttt{oneunit}}, \\href{@ref}{\\texttt{oftype}}.\n",
       "\n",
       "\\section{Examples}\n",
       "\\begin{verbatim}\n",
       "julia> zero(1)\n",
       "0\n",
       "\n",
       "julia> zero(big\"2.0\")\n",
       "0.0\n",
       "\n",
       "julia> zero(rand(2,2))\n",
       "2×2 Matrix{Float64}:\n",
       " 0.0  0.0\n",
       " 0.0  0.0\n",
       "\\end{verbatim}\n"
      ],
      "text/markdown": [
       "```\n",
       "zero(x)\n",
       "zero(::Type)\n",
       "```\n",
       "\n",
       "Get the additive identity element for the type of `x` (`x` can also specify the type itself).\n",
       "\n",
       "See also [`iszero`](@ref), [`one`](@ref), [`oneunit`](@ref), [`oftype`](@ref).\n",
       "\n",
       "# Examples\n",
       "\n",
       "```jldoctest\n",
       "julia> zero(1)\n",
       "0\n",
       "\n",
       "julia> zero(big\"2.0\")\n",
       "0.0\n",
       "\n",
       "julia> zero(rand(2,2))\n",
       "2×2 Matrix{Float64}:\n",
       " 0.0  0.0\n",
       " 0.0  0.0\n",
       "```\n"
      ],
      "text/plain": [
       "\u001b[36m  zero(x)\u001b[39m\n",
       "\u001b[36m  zero(::Type)\u001b[39m\n",
       "\n",
       "  Get the additive identity element for the type of \u001b[36mx\u001b[39m (\u001b[36mx\u001b[39m can also specify the\n",
       "  type itself).\n",
       "\n",
       "  See also \u001b[36miszero\u001b[39m, \u001b[36mone\u001b[39m, \u001b[36moneunit\u001b[39m, \u001b[36moftype\u001b[39m.\n",
       "\n",
       "\u001b[1m  Examples\u001b[22m\n",
       "\u001b[1m  ≡≡≡≡≡≡≡≡\u001b[22m\n",
       "\n",
       "\u001b[36m  julia> zero(1)\u001b[39m\n",
       "\u001b[36m  0\u001b[39m\n",
       "\u001b[36m  \u001b[39m\n",
       "\u001b[36m  julia> zero(big\"2.0\")\u001b[39m\n",
       "\u001b[36m  0.0\u001b[39m\n",
       "\u001b[36m  \u001b[39m\n",
       "\u001b[36m  julia> zero(rand(2,2))\u001b[39m\n",
       "\u001b[36m  2×2 Matrix{Float64}:\u001b[39m\n",
       "\u001b[36m   0.0  0.0\u001b[39m\n",
       "\u001b[36m   0.0  0.0\u001b[39m"
      ]
     },
     "metadata": {},
     "output_type": "display_data"
    }
   ],
   "source": [
    "@doc Base.zero"
   ]
  },
  {
   "cell_type": "code",
   "execution_count": 31,
   "id": "744804e8",
   "metadata": {},
   "outputs": [
    {
     "ename": "MethodError",
     "evalue": "MethodError: no method matching zero(::Vec{Int64})\nThe function `zero` exists, but no method is defined for this combination of argument types.\n\nClosest candidates are:\n  zero(!Matched::Type{Union{}}, Any...)\n   @ Base number.jl:310\n  zero(!Matched::Type{LibGit2.GitHash})\n   @ LibGit2 ~/.julia/juliaup/julia-1.11.4+0.x64.linux.gnu/share/julia/stdlib/v1.11/LibGit2/src/oid.jl:221\n  zero(!Matched::Type{Pkg.Resolve.VersionWeight})\n   @ Pkg ~/.julia/juliaup/julia-1.11.4+0.x64.linux.gnu/share/julia/stdlib/v1.11/Pkg/src/Resolve/versionweights.jl:15\n  ...\n",
     "output_type": "error",
     "traceback": [
      "MethodError: no method matching zero(::Vec{Int64})\n",
      "The function `zero` exists, but no method is defined for this combination of argument types.\n",
      "\n",
      "Closest candidates are:\n",
      "  zero(!Matched::Type{Union{}}, Any...)\n",
      "   @ Base number.jl:310\n",
      "  zero(!Matched::Type{LibGit2.GitHash})\n",
      "   @ LibGit2 ~/.julia/juliaup/julia-1.11.4+0.x64.linux.gnu/share/julia/stdlib/v1.11/LibGit2/src/oid.jl:221\n",
      "  zero(!Matched::Type{Pkg.Resolve.VersionWeight})\n",
      "   @ Pkg ~/.julia/juliaup/julia-1.11.4+0.x64.linux.gnu/share/julia/stdlib/v1.11/Pkg/src/Resolve/versionweights.jl:15\n",
      "  ...\n",
      "\n",
      "\n",
      "Stacktrace:\n",
      " [1] top-level scope\n",
      "   @ ~/dev/dmu/notebooks/jl_notebook_cell_df34fa98e69747e1a8f8a730347b8e2f_X50sZmlsZQ==.jl:1"
     ]
    }
   ],
   "source": [
    "zero(Vec(1,2))"
   ]
  },
  {
   "cell_type": "code",
   "execution_count": 34,
   "id": "75661fb0",
   "metadata": {},
   "outputs": [],
   "source": [
    "Base.zero(v::Vec) = Vec(0,0)\n",
    "Base.zero(v::MVec) = MVec(0,0)\n",
    "Base.zero(v::ZeroVec) = ZeroVec()"
   ]
  },
  {
   "cell_type": "code",
   "execution_count": 35,
   "id": "5a0b4301",
   "metadata": {},
   "outputs": [
    {
     "data": {
      "text/plain": [
       "Vec{Int64}(0, 0)"
      ]
     },
     "metadata": {},
     "output_type": "display_data"
    }
   ],
   "source": [
    "zero(Vec(1,2))"
   ]
  },
  {
   "cell_type": "code",
   "execution_count": 36,
   "id": "e8a67353",
   "metadata": {},
   "outputs": [],
   "source": [
    "Base.:+(a::AbstractVec, b::AbstractVec) = typeof(a)(horizontal(a) + horizontal(b), vertical(a) + vertical(b))\n",
    "Base.:+(a::ZeroVec, b::ZeroVec) = ZeroVec()"
   ]
  },
  {
   "cell_type": "code",
   "execution_count": 38,
   "id": "0e684a01",
   "metadata": {},
   "outputs": [
    {
     "data": {
      "text/plain": [
       "Vec{Int64}(2, 1)"
      ]
     },
     "metadata": {},
     "output_type": "display_data"
    }
   ],
   "source": [
    "Vec(2, 1) + Vec(1, 2)\n",
    "Vec(2, 1) + ZeroVec()"
   ]
  },
  {
   "cell_type": "code",
   "execution_count": 39,
   "id": "93f6a2b5",
   "metadata": {},
   "outputs": [],
   "source": [
    "function Base.:*(a::Int, b::AbstractVec)\n",
    "    c = zero(b)\n",
    "    for i in 1:a\n",
    "        c += b\n",
    "    end\n",
    "    return c\n",
    "end"
   ]
  },
  {
   "cell_type": "code",
   "execution_count": 42,
   "id": "0cc322ef",
   "metadata": {},
   "outputs": [
    {
     "data": {
      "text/plain": [
       "Vec{Int64}(1000000000, 1000000000)"
      ]
     },
     "metadata": {},
     "output_type": "display_data"
    }
   ],
   "source": [
    "1_000_000_000 * Vec(1, 1)"
   ]
  },
  {
   "cell_type": "code",
   "execution_count": 43,
   "id": "ca31f04f",
   "metadata": {},
   "outputs": [
    {
     "data": {
      "text/plain": [
       "MVec{Int64}(2, 4)"
      ]
     },
     "metadata": {},
     "output_type": "display_data"
    }
   ],
   "source": [
    "2*MVec(1, 2)"
   ]
  },
  {
   "cell_type": "code",
   "execution_count": 44,
   "id": "7ddc3675",
   "metadata": {},
   "outputs": [
    {
     "data": {
      "text/plain": [
       "ZeroVec()"
      ]
     },
     "metadata": {},
     "output_type": "display_data"
    }
   ],
   "source": [
    "2*ZeroVec()"
   ]
  },
  {
   "cell_type": "markdown",
   "id": "70ba513e",
   "metadata": {},
   "source": [
    "## Creating a Policy"
   ]
  },
  {
   "cell_type": "code",
   "execution_count": null,
   "id": "941c6a26",
   "metadata": {},
   "outputs": [],
   "source": [
    "using POMDPs"
   ]
  },
  {
   "cell_type": "markdown",
   "id": "8b3fc421",
   "metadata": {},
   "source": []
  },
  {
   "cell_type": "code",
   "execution_count": null,
   "id": "ff0e8b68",
   "metadata": {},
   "outputs": [],
   "source": [
    "struct AlwaysRight <: Policy\n",
    "end"
   ]
  },
  {
   "cell_type": "code",
   "execution_count": null,
   "id": "e0c738e3",
   "metadata": {},
   "outputs": [],
   "source": [
    "POMDPs.action(::AlwaysRight, state_or_belief) = :right"
   ]
  }
 ],
 "metadata": {
  "@webio": {
   "lastCommId": null,
   "lastKernelId": null
  },
  "kernelspec": {
   "display_name": "Julia 1.11.4",
   "language": "julia",
   "name": "julia-1.11"
  },
  "language_info": {
   "file_extension": ".jl",
   "mimetype": "application/julia",
   "name": "julia",
   "version": "1.11.4"
  }
 },
 "nbformat": 4,
 "nbformat_minor": 5
}
