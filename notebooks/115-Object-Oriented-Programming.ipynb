{
 "cells": [
  {
   "cell_type": "markdown",
   "id": "bab25e97",
   "metadata": {},
   "source": [
    "# Composite Types"
   ]
  },
  {
   "cell_type": "code",
   "execution_count": 2,
   "id": "dec8f1b5",
   "metadata": {},
   "outputs": [],
   "source": [
    "struct MyVec1\n",
    "    x\n",
    "    y\n",
    "end"
   ]
  },
  {
   "cell_type": "code",
   "execution_count": 3,
   "id": "266ac549",
   "metadata": {},
   "outputs": [
    {
     "data": {
      "text/plain": [
       "MyVec1(1, 2)"
      ]
     },
     "execution_count": 3,
     "metadata": {},
     "output_type": "execute_result"
    }
   ],
   "source": [
    "v = MyVec1(1, 2)"
   ]
  },
  {
   "cell_type": "code",
   "execution_count": 4,
   "id": "25d9cb59",
   "metadata": {},
   "outputs": [
    {
     "data": {
      "text/plain": [
       "1"
      ]
     },
     "execution_count": 4,
     "metadata": {},
     "output_type": "execute_result"
    }
   ],
   "source": [
    "v.x"
   ]
  },
  {
   "cell_type": "code",
   "execution_count": 5,
   "id": "932306a4",
   "metadata": {},
   "outputs": [],
   "source": [
    "struct MyVec2\n",
    "    x::Float64\n",
    "    y::Float64\n",
    "end"
   ]
  },
  {
   "cell_type": "code",
   "execution_count": 6,
   "id": "cc7c84ce",
   "metadata": {},
   "outputs": [
    {
     "data": {
      "text/plain": [
       "MyVec2(1.0, 2.0)"
      ]
     },
     "execution_count": 6,
     "metadata": {},
     "output_type": "execute_result"
    }
   ],
   "source": [
    "MyVec2(1, 2)"
   ]
  },
  {
   "cell_type": "markdown",
   "id": "61591ff8",
   "metadata": {},
   "source": [
    "# Parameters"
   ]
  },
  {
   "cell_type": "code",
   "execution_count": 8,
   "id": "d6848cd6",
   "metadata": {},
   "outputs": [],
   "source": [
    "struct MyVec3{T}\n",
    "    x::T\n",
    "    y::T\n",
    "end"
   ]
  },
  {
   "cell_type": "code",
   "execution_count": 9,
   "id": "67fda4db",
   "metadata": {},
   "outputs": [
    {
     "data": {
      "text/plain": [
       "MyVec3{Float64}(1.0, 2.0)"
      ]
     },
     "execution_count": 9,
     "metadata": {},
     "output_type": "execute_result"
    }
   ],
   "source": [
    "MyVec3(1.0, 2.0)"
   ]
  },
  {
   "cell_type": "code",
   "execution_count": 10,
   "id": "a795b1e5",
   "metadata": {},
   "outputs": [
    {
     "data": {
      "text/plain": [
       "MyVec3{Int64}(1, 2)"
      ]
     },
     "execution_count": 10,
     "metadata": {},
     "output_type": "execute_result"
    }
   ],
   "source": [
    "v = MyVec3(1, 2)"
   ]
  },
  {
   "cell_type": "code",
   "execution_count": 11,
   "id": "60bcfff9",
   "metadata": {},
   "outputs": [
    {
     "ename": "LoadError",
     "evalue": "setfield!: immutable struct of type MyVec3 cannot be changed",
     "output_type": "error",
     "traceback": [
      "setfield!: immutable struct of type MyVec3 cannot be changed",
      "",
      "Stacktrace:",
      " [1] setproperty!(x::MyVec3{Int64}, f::Symbol, v::Int64)",
      "   @ Base ./Base.jl:43",
      " [2] top-level scope",
      "   @ In[11]:1",
      " [3] eval",
      "   @ ./boot.jl:373 [inlined]",
      " [4] include_string(mapexpr::typeof(REPL.softscope), mod::Module, code::String, filename::String)",
      "   @ Base ./loading.jl:1196"
     ]
    }
   ],
   "source": [
    "v.x += 2"
   ]
  },
  {
   "cell_type": "markdown",
   "id": "e1ac565e",
   "metadata": {},
   "source": [
    "# Mutability"
   ]
  },
  {
   "cell_type": "code",
   "execution_count": 12,
   "id": "b4cf5f33",
   "metadata": {},
   "outputs": [],
   "source": [
    "mutable struct MyVec4{T}\n",
    "    x::T\n",
    "    y::T\n",
    "end"
   ]
  },
  {
   "cell_type": "code",
   "execution_count": 13,
   "id": "978c09fc",
   "metadata": {},
   "outputs": [
    {
     "data": {
      "text/plain": [
       "MyVec4{Int64}(1, 2)"
      ]
     },
     "execution_count": 13,
     "metadata": {},
     "output_type": "execute_result"
    }
   ],
   "source": [
    "v = MyVec4(1, 2)"
   ]
  },
  {
   "cell_type": "code",
   "execution_count": 14,
   "id": "984de95a",
   "metadata": {},
   "outputs": [
    {
     "data": {
      "text/plain": [
       "3"
      ]
     },
     "execution_count": 14,
     "metadata": {},
     "output_type": "execute_result"
    }
   ],
   "source": [
    "v.x += 2"
   ]
  },
  {
   "cell_type": "code",
   "execution_count": 15,
   "id": "6053439d",
   "metadata": {},
   "outputs": [
    {
     "data": {
      "text/plain": [
       "MyVec4{Int64}(3, 2)"
      ]
     },
     "execution_count": 15,
     "metadata": {},
     "output_type": "execute_result"
    }
   ],
   "source": [
    "v"
   ]
  },
  {
   "cell_type": "markdown",
   "id": "a054f097",
   "metadata": {},
   "source": [
    "**Major Downside** of mutability: mutable objects are usually allocated on the heap."
   ]
  },
  {
   "cell_type": "markdown",
   "id": "e65e1765",
   "metadata": {},
   "source": [
    "# Methods"
   ]
  },
  {
   "cell_type": "code",
   "execution_count": 16,
   "id": "3937d0e9",
   "metadata": {},
   "outputs": [
    {
     "data": {
      "text/plain": [
       "myplus (generic function with 1 method)"
      ]
     },
     "execution_count": 16,
     "metadata": {},
     "output_type": "execute_result"
    }
   ],
   "source": [
    "function myplus(a::MyVec3, b::MyVec3)\n",
    "    return MyVec3(a.x + b.x, a.y + b.y)\n",
    "end"
   ]
  },
  {
   "cell_type": "code",
   "execution_count": 17,
   "id": "f1f811f9",
   "metadata": {},
   "outputs": [
    {
     "data": {
      "text/plain": [
       "MyVec3{Int64}(4, 6)"
      ]
     },
     "execution_count": 17,
     "metadata": {},
     "output_type": "execute_result"
    }
   ],
   "source": [
    "myplus(MyVec3(1,2), MyVec3(3,4))"
   ]
  },
  {
   "cell_type": "markdown",
   "id": "9c815588",
   "metadata": {},
   "source": [
    "# Abstract Types"
   ]
  },
  {
   "cell_type": "code",
   "execution_count": 19,
   "id": "df903d73",
   "metadata": {},
   "outputs": [
    {
     "data": {
      "text/plain": [
       "AbstractVec"
      ]
     },
     "execution_count": 19,
     "metadata": {},
     "output_type": "execute_result"
    }
   ],
   "source": [
    "\"\"\"\n",
    "An AbstractVec represents a 2-d vector.\n",
    "\n",
    "New AbstractVec types should implement the methods horizontal(v) and vertical(v) to get the x and y coordinates\n",
    "\"\"\"\n",
    "abstract type AbstractVec end"
   ]
  },
  {
   "cell_type": "code",
   "execution_count": 20,
   "id": "f83ef948",
   "metadata": {},
   "outputs": [
    {
     "data": {
      "text/plain": [
       "vertical (generic function with 1 method)"
      ]
     },
     "execution_count": 20,
     "metadata": {},
     "output_type": "execute_result"
    }
   ],
   "source": [
    "struct Vec{T} <: AbstractVec\n",
    "    x::T\n",
    "    y::T\n",
    "end\n",
    "\n",
    "horizontal(v::Vec) = v.x\n",
    "vertical(v::Vec) = v.y"
   ]
  },
  {
   "cell_type": "code",
   "execution_count": 21,
   "id": "861c8cf3",
   "metadata": {},
   "outputs": [
    {
     "data": {
      "text/plain": [
       "vertical (generic function with 2 methods)"
      ]
     },
     "execution_count": 21,
     "metadata": {},
     "output_type": "execute_result"
    }
   ],
   "source": [
    "mutable struct MVec{T} <: AbstractVec\n",
    "    x::T\n",
    "    y::T\n",
    "end\n",
    "\n",
    "horizontal(v::MVec) = v.x\n",
    "vertical(v::MVec) = v.y"
   ]
  },
  {
   "cell_type": "code",
   "execution_count": 22,
   "id": "0b0d7904",
   "metadata": {},
   "outputs": [
    {
     "data": {
      "text/plain": [
       "myplus (generic function with 2 methods)"
      ]
     },
     "execution_count": 22,
     "metadata": {},
     "output_type": "execute_result"
    }
   ],
   "source": [
    "function myplus(a::AbstractVec, b::AbstractVec)\n",
    "    return typeof(a)(horizontal(a) + horizontal(b), vertical(a) + vertical(b))\n",
    "end"
   ]
  },
  {
   "cell_type": "code",
   "execution_count": 23,
   "id": "759774d1",
   "metadata": {},
   "outputs": [
    {
     "data": {
      "text/plain": [
       "Vec{Int64}(4, 6)"
      ]
     },
     "execution_count": 23,
     "metadata": {},
     "output_type": "execute_result"
    }
   ],
   "source": [
    "myplus(Vec(1,2), MVec(3,4))"
   ]
  },
  {
   "cell_type": "code",
   "execution_count": 24,
   "id": "bb429737",
   "metadata": {},
   "outputs": [
    {
     "data": {
      "text/plain": [
       "vertical (generic function with 3 methods)"
      ]
     },
     "execution_count": 24,
     "metadata": {},
     "output_type": "execute_result"
    }
   ],
   "source": [
    "struct ZeroVec <: AbstractVec end\n",
    "\n",
    "horizontal(::ZeroVec) = 0.0\n",
    "vertical(::ZeroVec) = 0.0"
   ]
  },
  {
   "cell_type": "code",
   "execution_count": 25,
   "id": "f18fe7b4",
   "metadata": {},
   "outputs": [
    {
     "data": {
      "text/plain": [
       "Vec{Int64}(1, 2)"
      ]
     },
     "execution_count": 25,
     "metadata": {},
     "output_type": "execute_result"
    }
   ],
   "source": [
    "myplus(Vec(1,2), ZeroVec())"
   ]
  },
  {
   "cell_type": "markdown",
   "id": "ed89a73c",
   "metadata": {},
   "source": [
    "# Adding methods to functions from another module"
   ]
  },
  {
   "cell_type": "code",
   "execution_count": 26,
   "id": "37c799c8",
   "metadata": {},
   "outputs": [
    {
     "data": {
      "text/latex": [
       "\\begin{verbatim}\n",
       "zero(x)\n",
       "zero(::Type)\n",
       "\\end{verbatim}\n",
       "Get the additive identity element for the type of \\texttt{x} (\\texttt{x} can also specify the type itself).\n",
       "\n",
       "See also \\href{@ref}{\\texttt{iszero}}, \\href{@ref}{\\texttt{one}}, \\href{@ref}{\\texttt{oneunit}}, \\href{@ref}{\\texttt{oftype}}.\n",
       "\n",
       "\\section{Examples}\n",
       "\\begin{verbatim}\n",
       "julia> zero(1)\n",
       "0\n",
       "\n",
       "julia> zero(big\"2.0\")\n",
       "0.0\n",
       "\n",
       "julia> zero(rand(2,2))\n",
       "2×2 Matrix{Float64}:\n",
       " 0.0  0.0\n",
       " 0.0  0.0\n",
       "\\end{verbatim}\n"
      ],
      "text/markdown": [
       "```\n",
       "zero(x)\n",
       "zero(::Type)\n",
       "```\n",
       "\n",
       "Get the additive identity element for the type of `x` (`x` can also specify the type itself).\n",
       "\n",
       "See also [`iszero`](@ref), [`one`](@ref), [`oneunit`](@ref), [`oftype`](@ref).\n",
       "\n",
       "# Examples\n",
       "\n",
       "```jldoctest\n",
       "julia> zero(1)\n",
       "0\n",
       "\n",
       "julia> zero(big\"2.0\")\n",
       "0.0\n",
       "\n",
       "julia> zero(rand(2,2))\n",
       "2×2 Matrix{Float64}:\n",
       " 0.0  0.0\n",
       " 0.0  0.0\n",
       "```\n"
      ],
      "text/plain": [
       "\u001b[36m  zero(x)\u001b[39m\n",
       "\u001b[36m  zero(::Type)\u001b[39m\n",
       "\n",
       "  Get the additive identity element for the type of \u001b[36mx\u001b[39m (\u001b[36mx\u001b[39m can also specify the\n",
       "  type itself).\n",
       "\n",
       "  See also \u001b[36miszero\u001b[39m, \u001b[36mone\u001b[39m, \u001b[36moneunit\u001b[39m, \u001b[36moftype\u001b[39m.\n",
       "\n",
       "\u001b[1m  Examples\u001b[22m\n",
       "\u001b[1m  ≡≡≡≡≡≡≡≡≡≡\u001b[22m\n",
       "\n",
       "\u001b[36m  julia> zero(1)\u001b[39m\n",
       "\u001b[36m  0\u001b[39m\n",
       "\u001b[36m  \u001b[39m\n",
       "\u001b[36m  julia> zero(big\"2.0\")\u001b[39m\n",
       "\u001b[36m  0.0\u001b[39m\n",
       "\u001b[36m  \u001b[39m\n",
       "\u001b[36m  julia> zero(rand(2,2))\u001b[39m\n",
       "\u001b[36m  2×2 Matrix{Float64}:\u001b[39m\n",
       "\u001b[36m   0.0  0.0\u001b[39m\n",
       "\u001b[36m   0.0  0.0\u001b[39m"
      ]
     },
     "execution_count": 26,
     "metadata": {},
     "output_type": "execute_result"
    }
   ],
   "source": [
    "@doc zero"
   ]
  },
  {
   "cell_type": "code",
   "execution_count": 27,
   "id": "744804e8",
   "metadata": {},
   "outputs": [
    {
     "ename": "LoadError",
     "evalue": "MethodError: no method matching zero(::Vec{Int64})\n\u001b[0mClosest candidates are:\n\u001b[0m  zero(\u001b[91m::Union{Type{P}, P}\u001b[39m) where P<:Dates.Period at /opt/julia-1.7.1/share/julia/stdlib/v1.7/Dates/src/periods.jl:53\n\u001b[0m  zero(\u001b[91m::LinearAlgebra.UniformScaling{T}\u001b[39m) where T at /opt/julia-1.7.1/share/julia/stdlib/v1.7/LinearAlgebra/src/uniformscaling.jl:136\n\u001b[0m  zero(\u001b[91m::AbstractIrrational\u001b[39m) at /opt/julia-1.7.1/share/julia/base/irrationals.jl:150\n\u001b[0m  ...",
     "output_type": "error",
     "traceback": [
      "MethodError: no method matching zero(::Vec{Int64})\n\u001b[0mClosest candidates are:\n\u001b[0m  zero(\u001b[91m::Union{Type{P}, P}\u001b[39m) where P<:Dates.Period at /opt/julia-1.7.1/share/julia/stdlib/v1.7/Dates/src/periods.jl:53\n\u001b[0m  zero(\u001b[91m::LinearAlgebra.UniformScaling{T}\u001b[39m) where T at /opt/julia-1.7.1/share/julia/stdlib/v1.7/LinearAlgebra/src/uniformscaling.jl:136\n\u001b[0m  zero(\u001b[91m::AbstractIrrational\u001b[39m) at /opt/julia-1.7.1/share/julia/base/irrationals.jl:150\n\u001b[0m  ...",
      "",
      "Stacktrace:",
      " [1] top-level scope",
      "   @ In[27]:1",
      " [2] eval",
      "   @ ./boot.jl:373 [inlined]",
      " [3] include_string(mapexpr::typeof(REPL.softscope), mod::Module, code::String, filename::String)",
      "   @ Base ./loading.jl:1196"
     ]
    }
   ],
   "source": [
    "zero(Vec(1,2))"
   ]
  },
  {
   "cell_type": "code",
   "execution_count": 28,
   "id": "75661fb0",
   "metadata": {},
   "outputs": [],
   "source": [
    "Base.zero(v::Vec) = Vec(0,0)\n",
    "Base.zero(v::MVec) = MVec(0,0)\n",
    "Base.zero(v::ZeroVec) = ZeroVec()"
   ]
  },
  {
   "cell_type": "code",
   "execution_count": 29,
   "id": "5a0b4301",
   "metadata": {},
   "outputs": [
    {
     "data": {
      "text/plain": [
       "Vec{Int64}(0, 0)"
      ]
     },
     "execution_count": 29,
     "metadata": {},
     "output_type": "execute_result"
    }
   ],
   "source": [
    "zero(Vec(1,2))"
   ]
  },
  {
   "cell_type": "code",
   "execution_count": 30,
   "id": "e8a67353",
   "metadata": {},
   "outputs": [],
   "source": [
    "Base.:+(a::AbstractVec, b::AbstractVec) = typeof(a)(horizontal(a) + horizontal(b), vertical(a) + vertical(b))\n",
    "Base.:+(a::ZeroVec, b::ZeroVec) = ZeroVec()"
   ]
  },
  {
   "cell_type": "code",
   "execution_count": 31,
   "id": "93f6a2b5",
   "metadata": {},
   "outputs": [],
   "source": [
    "function Base.:*(a::Int, b::AbstractVec)\n",
    "    c = zero(b)\n",
    "    for i in 1:a\n",
    "        c += b\n",
    "    end\n",
    "    return c\n",
    "end"
   ]
  },
  {
   "cell_type": "code",
   "execution_count": 32,
   "id": "0cc322ef",
   "metadata": {},
   "outputs": [
    {
     "data": {
      "text/plain": [
       "Vec{Int64}(2, 2)"
      ]
     },
     "execution_count": 32,
     "metadata": {},
     "output_type": "execute_result"
    }
   ],
   "source": [
    "2 * Vec(1, 1)"
   ]
  },
  {
   "cell_type": "code",
   "execution_count": 33,
   "id": "ca31f04f",
   "metadata": {},
   "outputs": [
    {
     "data": {
      "text/plain": [
       "MVec{Int64}(2, 4)"
      ]
     },
     "execution_count": 33,
     "metadata": {},
     "output_type": "execute_result"
    }
   ],
   "source": [
    "2*MVec(1, 2)"
   ]
  },
  {
   "cell_type": "code",
   "execution_count": 34,
   "id": "7ddc3675",
   "metadata": {},
   "outputs": [
    {
     "data": {
      "text/plain": [
       "ZeroVec()"
      ]
     },
     "execution_count": 34,
     "metadata": {},
     "output_type": "execute_result"
    }
   ],
   "source": [
    "2*ZeroVec()"
   ]
  },
  {
   "cell_type": "markdown",
   "id": "70ba513e",
   "metadata": {},
   "source": [
    "## Creating a Policy"
   ]
  },
  {
   "cell_type": "code",
   "execution_count": 1,
   "id": "941c6a26",
   "metadata": {},
   "outputs": [],
   "source": [
    "using POMDPs"
   ]
  },
  {
   "cell_type": "markdown",
   "id": "8b3fc421",
   "metadata": {},
   "source": []
  },
  {
   "cell_type": "code",
   "execution_count": null,
   "id": "ff0e8b68",
   "metadata": {},
   "outputs": [],
   "source": []
  }
 ],
 "metadata": {
  "@webio": {
   "lastCommId": null,
   "lastKernelId": null
  },
  "kernelspec": {
   "display_name": "Julia 1.10.2",
   "language": "julia",
   "name": "julia-1.10"
  },
  "language_info": {
   "file_extension": ".jl",
   "mimetype": "application/julia",
   "name": "julia",
   "version": "1.10.2"
  }
 },
 "nbformat": 4,
 "nbformat_minor": 5
}
