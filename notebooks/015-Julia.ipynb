{
 "cells": [
  {
   "cell_type": "markdown",
   "id": "ec701d0a",
   "metadata": {},
   "source": [
    "# Types\n",
    "\n",
    "Every object in Julia has a type that can be accessed with `typeof`.\n",
    "\n",
    "### Integers"
   ]
  },
  {
   "cell_type": "code",
   "execution_count": null,
   "id": "8b19119c-f428-467f-8ff2-821ee6925a27",
   "metadata": {},
   "outputs": [],
   "source": [
    "1"
   ]
  },
  {
   "cell_type": "code",
   "execution_count": null,
   "id": "f24cc65b",
   "metadata": {},
   "outputs": [],
   "source": [
    "typeof(1)"
   ]
  },
  {
   "cell_type": "markdown",
   "id": "88978a77",
   "metadata": {},
   "source": [
    "The default system integer type is aliased to `Int`. On my 64-bit machine, it is an `Int64`"
   ]
  },
  {
   "cell_type": "code",
   "execution_count": null,
   "id": "58707530",
   "metadata": {},
   "outputs": [],
   "source": [
    "Int"
   ]
  },
  {
   "cell_type": "markdown",
   "id": "4f3e5540",
   "metadata": {},
   "source": [
    "### Floating point numbers\n",
    "\n",
    "By default, real numbers are represented by 64-bit \"double precision\" IEEE standard floating point numbers (the same as `double` in C). Literals are written with a decimal point:"
   ]
  },
  {
   "cell_type": "code",
   "execution_count": null,
   "id": "3d2c2fe3",
   "metadata": {
    "scrolled": true
   },
   "outputs": [],
   "source": [
    "2.0 + 4.0"
   ]
  },
  {
   "cell_type": "code",
   "execution_count": null,
   "id": "5e2af2b9",
   "metadata": {},
   "outputs": [],
   "source": [
    "typeof(2.0)"
   ]
  },
  {
   "cell_type": "markdown",
   "id": "e4a7331c",
   "metadata": {},
   "source": [
    "You can also use \"single precision\" 32-bit floating point numbers. with an `f0` at the end."
   ]
  },
  {
   "cell_type": "code",
   "execution_count": null,
   "id": "7260e25d",
   "metadata": {},
   "outputs": [],
   "source": [
    "typeof(2.0f0)"
   ]
  },
  {
   "cell_type": "markdown",
   "id": "59e23cff",
   "metadata": {},
   "source": [
    "### Rationals"
   ]
  },
  {
   "cell_type": "code",
   "execution_count": null,
   "id": "83e1b058",
   "metadata": {},
   "outputs": [],
   "source": [
    "332//241"
   ]
  },
  {
   "cell_type": "code",
   "execution_count": null,
   "id": "1d1ece65",
   "metadata": {},
   "outputs": [],
   "source": [
    "332//241 - 235//128"
   ]
  },
  {
   "cell_type": "markdown",
   "id": "8b25e042",
   "metadata": {},
   "source": [
    "### Strings"
   ]
  },
  {
   "cell_type": "code",
   "execution_count": null,
   "id": "8337fe7b",
   "metadata": {
    "scrolled": true
   },
   "outputs": [],
   "source": [
    "\"Life is a POMDP\""
   ]
  },
  {
   "cell_type": "markdown",
   "id": "170a16ad",
   "metadata": {},
   "source": [
    "# Type Conversion"
   ]
  },
  {
   "cell_type": "code",
   "execution_count": null,
   "id": "c38869d5",
   "metadata": {},
   "outputs": [],
   "source": [
    "convert(Float64, 1)"
   ]
  },
  {
   "cell_type": "markdown",
   "id": "eddd1236",
   "metadata": {},
   "source": [
    "# Variables\n",
    "\n",
    "Variables are names assigned to objects."
   ]
  },
  {
   "cell_type": "code",
   "execution_count": null,
   "id": "af06bd95",
   "metadata": {},
   "outputs": [],
   "source": [
    "a = 1"
   ]
  },
  {
   "cell_type": "code",
   "execution_count": null,
   "id": "4b8fc149",
   "metadata": {},
   "outputs": [],
   "source": [
    "b = a\n",
    "a = 5\n",
    "b"
   ]
  },
  {
   "cell_type": "code",
   "execution_count": null,
   "id": "57a9cdef",
   "metadata": {},
   "outputs": [],
   "source": [
    "a + b"
   ]
  },
  {
   "cell_type": "markdown",
   "id": "a0f35816",
   "metadata": {},
   "source": [
    "A variable does not have a type - only the object that it refers to has a type."
   ]
  },
  {
   "cell_type": "code",
   "execution_count": null,
   "id": "b8f09e20",
   "metadata": {},
   "outputs": [],
   "source": [
    "c = 1\n",
    "typeof(c)"
   ]
  },
  {
   "cell_type": "code",
   "execution_count": null,
   "id": "ee741a9a",
   "metadata": {},
   "outputs": [],
   "source": [
    "c = 3.2\n",
    "typeof(c)"
   ]
  },
  {
   "cell_type": "markdown",
   "id": "3d966eac",
   "metadata": {},
   "source": [
    "# Arrays"
   ]
  },
  {
   "cell_type": "code",
   "execution_count": null,
   "id": "ddd609eb",
   "metadata": {},
   "outputs": [],
   "source": [
    "v = [1,2,3]"
   ]
  },
  {
   "cell_type": "code",
   "execution_count": null,
   "id": "280ad191",
   "metadata": {},
   "outputs": [],
   "source": [
    "push!(v, 4)"
   ]
  },
  {
   "cell_type": "markdown",
   "id": "cd1254b7",
   "metadata": {},
   "source": [
    "The type in the curly brackets indicates what kind of objects the vector can contain. "
   ]
  },
  {
   "cell_type": "code",
   "execution_count": null,
   "id": "4c6a34a5",
   "metadata": {},
   "outputs": [],
   "source": [
    "push!(v, \"string\")"
   ]
  },
  {
   "cell_type": "markdown",
   "id": "21234c04",
   "metadata": {},
   "source": [
    "`Vector{Any}` objects can contain any type of object, but they are less efficient."
   ]
  },
  {
   "cell_type": "code",
   "execution_count": null,
   "id": "53bc5acb",
   "metadata": {},
   "outputs": [],
   "source": [
    "Any[1, 2.0, \"three\"]"
   ]
  },
  {
   "cell_type": "markdown",
   "id": "f0705d3d",
   "metadata": {},
   "source": [
    "`Array`s can even contain other `Array`s."
   ]
  },
  {
   "cell_type": "code",
   "execution_count": null,
   "id": "ac25251c",
   "metadata": {},
   "outputs": [],
   "source": [
    "[[1, 2], [3,4]]"
   ]
  },
  {
   "cell_type": "markdown",
   "id": "6c2c0a5c",
   "metadata": {},
   "source": [
    "### Indexing"
   ]
  },
  {
   "cell_type": "code",
   "execution_count": null,
   "id": "4e2e6c37",
   "metadata": {
    "scrolled": true
   },
   "outputs": [],
   "source": [
    "v[1]"
   ]
  },
  {
   "cell_type": "code",
   "execution_count": null,
   "id": "9e1097a9",
   "metadata": {},
   "outputs": [],
   "source": [
    "v[1] = 5\n",
    "v"
   ]
  },
  {
   "cell_type": "markdown",
   "id": "78998885",
   "metadata": {},
   "source": [
    "### Vectors and Matrices\n",
    "\n",
    "A `Vector` is a one-dimensional `Array`. They are written with comma-separated values.\n",
    "\n",
    "This is in contrast to Matlab, where vectors are usually represented as $n \\times 1$ 2-dimensional arrays. In Matlab, the distinction between row vectors and column vectors is a primary concern, it is not usually a concern in Julia."
   ]
  },
  {
   "cell_type": "code",
   "execution_count": null,
   "id": "8c9c1634",
   "metadata": {},
   "outputs": [],
   "source": [
    "typeof([1.0, 2.0])"
   ]
  },
  {
   "cell_type": "code",
   "execution_count": null,
   "id": "4360e9b3",
   "metadata": {},
   "outputs": [],
   "source": [
    "size([1.0, 2.0])"
   ]
  },
  {
   "cell_type": "markdown",
   "id": "221d1045",
   "metadata": {},
   "source": [
    "A `Matrix` is a two-dimensional `Array`. They are written with spaces and semicolons."
   ]
  },
  {
   "cell_type": "code",
   "execution_count": null,
   "id": "fc485c30",
   "metadata": {},
   "outputs": [],
   "source": [
    "m = [1 2; 3 4]"
   ]
  },
  {
   "cell_type": "code",
   "execution_count": null,
   "id": "3f9d7b30",
   "metadata": {},
   "outputs": [],
   "source": [
    "typeof(m)"
   ]
  },
  {
   "cell_type": "code",
   "execution_count": null,
   "id": "7c7e555d",
   "metadata": {},
   "outputs": [],
   "source": [
    "size(m)"
   ]
  },
  {
   "cell_type": "markdown",
   "id": "91055170",
   "metadata": {},
   "source": [
    "# Mutable and Immutable Types\n",
    "\n",
    "Some types, such as `Int` and `Float64` are immutable - that means the objects themselves can never be modified. Other types, such as `Vector` are mutable and the objects can be modified."
   ]
  },
  {
   "cell_type": "code",
   "execution_count": null,
   "id": "fd4b291a",
   "metadata": {},
   "outputs": [],
   "source": [
    "a = 1\n",
    "b = a\n",
    "a += 1 # identical to a = a + 1\n",
    "a, b"
   ]
  },
  {
   "cell_type": "code",
   "execution_count": null,
   "id": "98d5fb2c",
   "metadata": {},
   "outputs": [],
   "source": [
    "v = [1,2]\n",
    "u = v\n",
    "u[1] = 5\n",
    "u, v"
   ]
  },
  {
   "cell_type": "markdown",
   "id": "4aa0eb74",
   "metadata": {},
   "source": [
    "Convention: functions with `!` (pronounced \"bang\") modify their arguments"
   ]
  },
  {
   "cell_type": "code",
   "execution_count": null,
   "id": "3bade7d6",
   "metadata": {},
   "outputs": [],
   "source": [
    "a = [1,2]\n",
    "push!(a, 3)\n",
    "a"
   ]
  },
  {
   "cell_type": "markdown",
   "id": "e0300c5f",
   "metadata": {},
   "source": [
    "Two important immutable types are `Tuple`s and `StaticArray`s.\n",
    "\n",
    "`Tuple`s are immutable collections of a few objects that can each have a different type without performanc penalties. Literals representing `Tuple`s are surrounded by parentheses with items separated by commas."
   ]
  },
  {
   "cell_type": "code",
   "execution_count": null,
   "id": "f57d4211",
   "metadata": {},
   "outputs": [],
   "source": [
    "typeof((1,\"two\"))"
   ]
  },
  {
   "cell_type": "markdown",
   "id": "453d0e9f",
   "metadata": {},
   "source": [
    "`StaticArray`s come from the `StaticArrays.jl` package. They are immutable, have fixed size, and are useful for representing small arrays (like x-y position) in performance-critical code. The easiest way to construct one is by preceding an array literal with `SA`:"
   ]
  },
  {
   "cell_type": "code",
   "execution_count": null,
   "id": "ebf79086",
   "metadata": {},
   "outputs": [],
   "source": [
    "using StaticArrays\n",
    "SA[1,2,3]"
   ]
  },
  {
   "cell_type": "markdown",
   "id": "9a66f766-cdf0-48f8-9c49-82730033a524",
   "metadata": {},
   "source": [
    "# Dictionaries\n",
    "\n",
    "Dictionaries map keys to values."
   ]
  },
  {
   "cell_type": "code",
   "execution_count": null,
   "id": "47341c9d-7e21-423f-806c-bb186725cf41",
   "metadata": {},
   "outputs": [],
   "source": [
    "d = Dict(\"one\" => 1, \"two\" => 2)"
   ]
  },
  {
   "cell_type": "code",
   "execution_count": null,
   "id": "8e0ea652-a7cf-4c78-b00a-4ff0e9e4f0aa",
   "metadata": {},
   "outputs": [],
   "source": [
    "d[\"two\"]"
   ]
  },
  {
   "cell_type": "code",
   "execution_count": null,
   "id": "556af3fa-6d90-4125-adf1-55d0a33f8556",
   "metadata": {},
   "outputs": [],
   "source": [
    "d[\"three\"]"
   ]
  },
  {
   "cell_type": "code",
   "execution_count": null,
   "id": "60162e0d-39b3-4609-bcb9-2e8380852359",
   "metadata": {},
   "outputs": [],
   "source": [
    "d[\"three\"] = 3\n",
    "d"
   ]
  },
  {
   "cell_type": "markdown",
   "id": "b51e7fd8",
   "metadata": {},
   "source": [
    "# Debugging\n",
    "\n",
    "## Printline Debugging"
   ]
  },
  {
   "cell_type": "code",
   "execution_count": null,
   "id": "649c0042",
   "metadata": {},
   "outputs": [],
   "source": [
    "a = [1,2,3]\n",
    "@show a # Things that begin with \"@\", like @show, are \"macros\"\n",
    "a + a"
   ]
  },
  {
   "cell_type": "code",
   "execution_count": null,
   "id": "b273dafe",
   "metadata": {},
   "outputs": [],
   "source": [
    "a = [1,2,3]\n",
    "display(a)\n",
    "a + a"
   ]
  },
  {
   "cell_type": "code",
   "execution_count": null,
   "id": "0e1334c3",
   "metadata": {},
   "outputs": [],
   "source": [
    "a = [1,2,3]\n",
    "@debug(\"debug doesn't print by default\", a)\n",
    "@info(\"some info\", a)\n",
    "@warn(\"a warning\", a)\n",
    "@error(\"an error message (with no exception)\", a)"
   ]
  },
  {
   "cell_type": "code",
   "execution_count": null,
   "id": "1972ee16",
   "metadata": {},
   "outputs": [],
   "source": [
    "using Logging\n",
    "debuglogger = ConsoleLogger(stderr, Logging.Debug)\n",
    "with_logger(debuglogger) do\n",
    "    @debug(\"this debug message will print\")\n",
    "end"
   ]
  },
  {
   "cell_type": "markdown",
   "id": "ea52fd14",
   "metadata": {},
   "source": [
    "## Debugger"
   ]
  },
  {
   "cell_type": "code",
   "execution_count": null,
   "id": "44fee2d4",
   "metadata": {},
   "outputs": [],
   "source": [
    "using Debugger\n",
    "\n",
    "@enter sin(2)"
   ]
  },
  {
   "cell_type": "markdown",
   "id": "09f9e3c8",
   "metadata": {},
   "source": [
    "# Functions"
   ]
  },
  {
   "cell_type": "code",
   "execution_count": null,
   "id": "c5d12fe2",
   "metadata": {},
   "outputs": [],
   "source": [
    "function f(x)\n",
    "    return x^2\n",
    "end"
   ]
  },
  {
   "cell_type": "code",
   "execution_count": null,
   "id": "e2ed9a19",
   "metadata": {},
   "outputs": [],
   "source": [
    "f(x) = x^2"
   ]
  },
  {
   "cell_type": "code",
   "execution_count": null,
   "id": "73073df1",
   "metadata": {},
   "outputs": [],
   "source": [
    "f(2.0)"
   ]
  },
  {
   "cell_type": "code",
   "execution_count": null,
   "id": "b3f6c011",
   "metadata": {},
   "outputs": [],
   "source": [
    "g = x -> x^2"
   ]
  },
  {
   "cell_type": "code",
   "execution_count": null,
   "id": "71a29909",
   "metadata": {},
   "outputs": [],
   "source": [
    "g(2.0)"
   ]
  },
  {
   "cell_type": "markdown",
   "id": "9a743725",
   "metadata": {},
   "source": [
    "### Methods and multiple dispatch"
   ]
  },
  {
   "cell_type": "code",
   "execution_count": null,
   "id": "47227d7b",
   "metadata": {},
   "outputs": [],
   "source": [
    "function f(x::Float64)\n",
    "    println(\"A float!\")\n",
    "    return x^2\n",
    "end"
   ]
  },
  {
   "cell_type": "code",
   "execution_count": null,
   "id": "ce81749f",
   "metadata": {},
   "outputs": [],
   "source": [
    "function f(x::Int)\n",
    "    println(\"An int!\")\n",
    "    return x^2\n",
    "end"
   ]
  },
  {
   "cell_type": "code",
   "execution_count": null,
   "id": "3b7ea500",
   "metadata": {},
   "outputs": [],
   "source": [
    "f(1)"
   ]
  },
  {
   "cell_type": "code",
   "execution_count": null,
   "id": "7fd3c03f",
   "metadata": {},
   "outputs": [],
   "source": [
    "f(2.0)"
   ]
  },
  {
   "cell_type": "code",
   "execution_count": null,
   "id": "83387e15",
   "metadata": {},
   "outputs": [],
   "source": [
    "f(\"three\")"
   ]
  },
  {
   "cell_type": "code",
   "execution_count": null,
   "id": "24594671",
   "metadata": {},
   "outputs": [],
   "source": [
    "methods(f)"
   ]
  },
  {
   "cell_type": "markdown",
   "id": "665e6f7b",
   "metadata": {},
   "source": [
    "# Plotting"
   ]
  },
  {
   "cell_type": "code",
   "execution_count": null,
   "id": "9ed988fb",
   "metadata": {},
   "outputs": [],
   "source": [
    "using Plots # the first time this will be slow because it's compiling"
   ]
  },
  {
   "cell_type": "code",
   "execution_count": null,
   "id": "be27b2ab",
   "metadata": {},
   "outputs": [],
   "source": [
    "plot([1,2], [3,4], label=nothing) # also slow the first time"
   ]
  },
  {
   "cell_type": "code",
   "execution_count": null,
   "id": "49e17539",
   "metadata": {},
   "outputs": [],
   "source": [
    "plot([1,2], [3,4], label=\"up\")\n",
    "plot!([1,2], [4,3], label=\"down\") # plot! adds another plot"
   ]
  },
  {
   "cell_type": "markdown",
   "id": "0326e8e7",
   "metadata": {},
   "source": [
    "# Type stability\n",
    "\n",
    "You want to make it easy for the compiler to predict what your function will return."
   ]
  },
  {
   "cell_type": "code",
   "execution_count": null,
   "id": "0d88425f",
   "metadata": {},
   "outputs": [],
   "source": [
    "function good()\n",
    "    if rand() > 0.5\n",
    "        return sqrt(2.0)\n",
    "    else\n",
    "        return 0.0\n",
    "    end\n",
    "end"
   ]
  },
  {
   "cell_type": "code",
   "execution_count": null,
   "id": "f6c43efc",
   "metadata": {},
   "outputs": [],
   "source": [
    "function bad()\n",
    "    if rand() > 0.5\n",
    "        return sqrt(2.0)\n",
    "    else\n",
    "        return 0\n",
    "    end\n",
    "end"
   ]
  },
  {
   "cell_type": "code",
   "execution_count": null,
   "id": "6a1880a8",
   "metadata": {},
   "outputs": [],
   "source": [
    "@code_warntype bad()"
   ]
  },
  {
   "cell_type": "code",
   "execution_count": null,
   "id": "92eeb11b",
   "metadata": {},
   "outputs": [],
   "source": [
    "@code_warntype good()"
   ]
  },
  {
   "cell_type": "code",
   "execution_count": null,
   "id": "ad0e067a",
   "metadata": {},
   "outputs": [],
   "source": []
  }
 ],
 "metadata": {
  "@webio": {
   "lastCommId": null,
   "lastKernelId": null
  },
  "kernelspec": {
   "display_name": "Julia 1.11.2",
   "language": "julia",
   "name": "julia-1.11"
  },
  "language_info": {
   "file_extension": ".jl",
   "mimetype": "application/julia",
   "name": "julia",
   "version": "1.11.2"
  }
 },
 "nbformat": 4,
 "nbformat_minor": 5
}
