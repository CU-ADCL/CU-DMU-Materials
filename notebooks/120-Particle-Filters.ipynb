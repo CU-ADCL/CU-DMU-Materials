{
 "cells": [
  {
   "cell_type": "code",
   "execution_count": 9,
   "id": "3ae0f678",
   "metadata": {},
   "outputs": [],
   "source": [
    "using POMDPs\n",
    "using QuickPOMDPs\n",
    "using POMDPModelTools: Uniform, Deterministic\n",
    "using Distributions: Normal\n",
    "using Random\n",
    "using POMDPSimulators: HistoryRecorder\n",
    "using POMDPPolicies: RandomPolicy"
   ]
  },
  {
   "cell_type": "code",
   "execution_count": 6,
   "id": "002e5130",
   "metadata": {},
   "outputs": [],
   "source": [
    "r = 60\n",
    "light_loc = 10\n",
    "\n",
    "m = QuickPOMDP(\n",
    "    states = -r:r+1,                  # r+1 is a terminal state\n",
    "    actions = [-10, -1, 0, 1, 10],\n",
    "    discount = 0.95,\n",
    "    isterminal = s -> !(s in -r:r),\n",
    "    obstype = Float64,\n",
    "\n",
    "    transition = function (s, a)\n",
    "        if a == 0\n",
    "            return Deterministic(r+1)\n",
    "        else\n",
    "            return Deterministic(clamp(s+a, -r, r))\n",
    "        end\n",
    "    end,\n",
    "\n",
    "    observation = (s, a, sp) -> Normal(sp, abs(sp - light_loc) + 0.0001),\n",
    "\n",
    "    reward = function (s, a)\n",
    "        if a == 0\n",
    "            return s == 0 ? 100 : -100\n",
    "        else\n",
    "            return -1.0\n",
    "        end\n",
    "    end,\n",
    "\n",
    "    initialstate = Uniform(div(-r,2):div(r,2))\n",
    ");"
   ]
  },
  {
   "cell_type": "code",
   "execution_count": 12,
   "id": "4af4204f",
   "metadata": {
    "scrolled": true
   },
   "outputs": [
    {
     "data": {
      "text/plain": [
       "7-element POMDPSimulators.SimHistory{NamedTuple{(:s, :a, :sp, :o, :r, :info, :t, :action_info, :b, :bp, :update_info), Tuple{Int64, Int64, Int64, Float64, Float64, Nothing, Int64, Nothing, Nothing, Nothing, Nothing}}, Float64}:\n",
       " (s = -28, a = -10, sp = -38, o = -32.607772834636705, r = -1.0, info = nothing, t = 1, action_info = nothing, b = nothing, bp = nothing, update_info = nothing)\n",
       " (s = -38, a = -1, sp = -39, o = -54.75286154041623, r = -1.0, info = nothing, t = 2, action_info = nothing, b = nothing, bp = nothing, update_info = nothing)\n",
       " (s = -39, a = -1, sp = -40, o = -67.47664792779011, r = -1.0, info = nothing, t = 3, action_info = nothing, b = nothing, bp = nothing, update_info = nothing)\n",
       " (s = -40, a = -10, sp = -50, o = -59.56307574595351, r = -1.0, info = nothing, t = 4, action_info = nothing, b = nothing, bp = nothing, update_info = nothing)\n",
       " (s = -50, a = 1, sp = -49, o = -153.67193204899058, r = -1.0, info = nothing, t = 5, action_info = nothing, b = nothing, bp = nothing, update_info = nothing)\n",
       " (s = -49, a = 10, sp = -39, o = 2.7447386717658304, r = -1.0, info = nothing, t = 6, action_info = nothing, b = nothing, bp = nothing, update_info = nothing)\n",
       " (s = -39, a = 0, sp = 61, o = 125.27706236150783, r = -100.0, info = nothing, t = 7, action_info = nothing, b = nothing, bp = nothing, update_info = nothing)"
      ]
     },
     "execution_count": 12,
     "metadata": {},
     "output_type": "execute_result"
    }
   ],
   "source": [
    "trajectory = simulate(HistoryRecorder(), m, RandomPolicy(m))"
   ]
  },
  {
   "cell_type": "code",
   "execution_count": 11,
   "id": "0b2aa99d",
   "metadata": {},
   "outputs": [
    {
     "data": {
      "text/plain": [
       "rejection_particle_update (generic function with 1 method)"
      ]
     },
     "execution_count": 11,
     "metadata": {},
     "output_type": "execute_result"
    }
   ],
   "source": [
    "function rejection_particle_update(m, b, a, o)\n",
    "    bp = statetype(m)[]\n",
    "    while length(bp) < b\n",
    "        s = rand(b)\n",
    "        sp, o_gen = @gen(:sp, :o)(m, s, a)\n",
    "        if o_gen == o\n",
    "            push!(bp, rand(b))\n",
    "        end\n",
    "    end\n",
    "    return bp\n",
    "end"
   ]
  },
  {
   "cell_type": "code",
   "execution_count": null,
   "id": "3fd61aef",
   "metadata": {},
   "outputs": [],
   "source": []
  }
 ],
 "metadata": {
  "@webio": {
   "lastCommId": null,
   "lastKernelId": null
  },
  "kernelspec": {
   "display_name": "Julia 1.8.0",
   "language": "julia",
   "name": "julia-1.8"
  },
  "language_info": {
   "file_extension": ".jl",
   "mimetype": "application/julia",
   "name": "julia",
   "version": "1.8.0"
  }
 },
 "nbformat": 4,
 "nbformat_minor": 5
}
