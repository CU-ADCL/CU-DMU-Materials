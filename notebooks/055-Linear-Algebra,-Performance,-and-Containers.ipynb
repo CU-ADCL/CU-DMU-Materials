{
 "cells": [
  {
   "cell_type": "markdown",
   "id": "6707d50d",
   "metadata": {},
   "source": [
    "## Two ways of interacting with (PO)MDPs: state objects and indices"
   ]
  },
  {
   "cell_type": "code",
   "execution_count": 1,
   "id": "a9f41cfa",
   "metadata": {},
   "outputs": [],
   "source": [
    "using DMUStudent: HW2\n",
    "using POMDPs"
   ]
  },
  {
   "cell_type": "code",
   "execution_count": 2,
   "id": "b2f41756",
   "metadata": {},
   "outputs": [
    {
     "data": {
      "text/plain": [
       "POMDPModels.SimpleGridWorld\n",
       "  size: Tuple{Int64, Int64}\n",
       "  rewards: Dict{StaticArraysCore.SVector{2, Int64}, Float64}\n",
       "  terminate_from: Set{StaticArraysCore.SVector{2, Int64}}\n",
       "  tprob: Float64 0.7\n",
       "  discount: Float64 0.95\n"
      ]
     },
     "execution_count": 2,
     "metadata": {},
     "output_type": "execute_result"
    }
   ],
   "source": [
    "m = HW2.grid_world"
   ]
  },
  {
   "cell_type": "code",
   "execution_count": 3,
   "id": "1fd9e5c7",
   "metadata": {},
   "outputs": [
    {
     "data": {
      "text/plain": [
       "101-element Vector{StaticArraysCore.SVector{2, Int64}}:\n",
       " [1, 1]\n",
       " [2, 1]\n",
       " [3, 1]\n",
       " [4, 1]\n",
       " [5, 1]\n",
       " [6, 1]\n",
       " [7, 1]\n",
       " [8, 1]\n",
       " [9, 1]\n",
       " [10, 1]\n",
       " [1, 2]\n",
       " [2, 2]\n",
       " [3, 2]\n",
       " ⋮\n",
       " [10, 9]\n",
       " [1, 10]\n",
       " [2, 10]\n",
       " [3, 10]\n",
       " [4, 10]\n",
       " [5, 10]\n",
       " [6, 10]\n",
       " [7, 10]\n",
       " [8, 10]\n",
       " [9, 10]\n",
       " [10, 10]\n",
       " [-1, -1]"
      ]
     },
     "execution_count": 3,
     "metadata": {},
     "output_type": "execute_result"
    }
   ],
   "source": [
    "states(m) # state objects"
   ]
  },
  {
   "cell_type": "code",
   "execution_count": 4,
   "id": "2cbbf9b9",
   "metadata": {},
   "outputs": [
    {
     "data": {
      "text/plain": [
       "1:101"
      ]
     },
     "execution_count": 4,
     "metadata": {},
     "output_type": "execute_result"
    }
   ],
   "source": [
    "1:length(states(m)) # state indices"
   ]
  },
  {
   "cell_type": "code",
   "execution_count": 5,
   "id": "3907f0f2",
   "metadata": {},
   "outputs": [
    {
     "data": {
      "text/plain": [
       "76"
      ]
     },
     "execution_count": 5,
     "metadata": {},
     "output_type": "execute_result"
    }
   ],
   "source": [
    "stateindex(m, [6,8])"
   ]
  },
  {
   "cell_type": "code",
   "execution_count": 6,
   "id": "0ba44f35",
   "metadata": {},
   "outputs": [
    {
     "data": {
      "text/plain": [
       "                      \u001b[1mSparseCat distribution\u001b[22m           \n",
       "            \u001b[90m┌                                        ┐\u001b[39m \n",
       "     \u001b[0m[1, 1] \u001b[90m┤\u001b[39m\u001b[38;5;2m■■■■■■■■■■■■■■■■■■■■\u001b[39m\u001b[0m 0.7999999999999999 \u001b[90m \u001b[39m \n",
       "     \u001b[0m[1, 2] \u001b[90m┤\u001b[39m\u001b[38;5;2m■■■\u001b[39m\u001b[0m 0.10000000000000002                 \u001b[90m \u001b[39m \n",
       "   \u001b[0m[-1, -1] \u001b[90m┤\u001b[39m\u001b[0m 0.0                                    \u001b[90m \u001b[39m \n",
       "   \u001b[0m[-1, -1] \u001b[90m┤\u001b[39m\u001b[0m 0.0                                    \u001b[90m \u001b[39m \n",
       "     \u001b[0m[2, 1] \u001b[90m┤\u001b[39m\u001b[38;5;2m■■■\u001b[39m\u001b[0m 0.10000000000000002                 \u001b[90m \u001b[39m \n",
       "            \u001b[90m└                                        ┘\u001b[39m "
      ]
     },
     "execution_count": 6,
     "metadata": {},
     "output_type": "execute_result"
    }
   ],
   "source": [
    "transition(m, [1,1], :left) # state objects"
   ]
  },
  {
   "cell_type": "code",
   "execution_count": 7,
   "id": "cded45a9",
   "metadata": {},
   "outputs": [
    {
     "data": {
      "text/plain": [
       "Dict{Symbol, Matrix{Float64}} with 4 entries:\n",
       "  :left  => [0.8 0.1 … 0.0 0.0; 0.7 0.1 … 0.0 0.0; … ; 0.0 0.0 … 0.2 0.0; 0.0 0…\n",
       "  :right => [0.2 0.7 … 0.0 0.0; 0.1 0.1 … 0.0 0.0; … ; 0.0 0.0 … 0.8 0.0; 0.0 0…\n",
       "  :up    => [0.2 0.1 … 0.0 0.0; 0.1 0.1 … 0.0 0.0; … ; 0.0 0.0 … 0.8 0.0; 0.0 0…\n",
       "  :down  => [0.8 0.1 … 0.0 0.0; 0.1 0.7 … 0.0 0.0; … ; 0.0 0.0 … 0.2 0.0; 0.0 0…"
      ]
     },
     "execution_count": 7,
     "metadata": {},
     "output_type": "execute_result"
    }
   ],
   "source": [
    "T = HW2.transition_matrices(m) # state indices"
   ]
  },
  {
   "cell_type": "code",
   "execution_count": 8,
   "id": "13a38164",
   "metadata": {},
   "outputs": [
    {
     "data": {
      "text/plain": [
       "0.10000000000000002"
      ]
     },
     "execution_count": 8,
     "metadata": {},
     "output_type": "execute_result"
    }
   ],
   "source": [
    "T[:left][1, 2]"
   ]
  },
  {
   "cell_type": "code",
   "execution_count": 9,
   "id": "0cc72525",
   "metadata": {},
   "outputs": [
    {
     "data": {
      "text/plain": [
       "0.7"
      ]
     },
     "execution_count": 9,
     "metadata": {},
     "output_type": "execute_result"
    }
   ],
   "source": [
    "T[:right][stateindex(m, [1,1]), stateindex(m, [2,1])]"
   ]
  },
  {
   "cell_type": "code",
   "execution_count": 10,
   "id": "844cb339",
   "metadata": {},
   "outputs": [
    {
     "data": {
      "text/plain": [
       "Dict{Symbol, Vector{Float64}} with 4 entries:\n",
       "  :left  => [0.0, 0.0, 0.0, 0.0, 0.0, 0.0, 0.0, 0.0, 0.0, 0.0  …  0.0, 0.0, 0.0…\n",
       "  :right => [0.0, 0.0, 0.0, 0.0, 0.0, 0.0, 0.0, 0.0, 0.0, 0.0  …  0.0, 0.0, 0.0…\n",
       "  :up    => [0.0, 0.0, 0.0, 0.0, 0.0, 0.0, 0.0, 0.0, 0.0, 0.0  …  0.0, 0.0, 0.0…\n",
       "  :down  => [0.0, 0.0, 0.0, 0.0, 0.0, 0.0, 0.0, 0.0, 0.0, 0.0  …  0.0, 0.0, 0.0…"
      ]
     },
     "execution_count": 10,
     "metadata": {},
     "output_type": "execute_result"
    }
   ],
   "source": [
    "R = HW2.reward_vectors(m) # state indices"
   ]
  },
  {
   "cell_type": "code",
   "execution_count": 11,
   "id": "c722cf80",
   "metadata": {},
   "outputs": [],
   "source": [
    "using POMDPTools: ordered_states"
   ]
  },
  {
   "cell_type": "code",
   "execution_count": 12,
   "id": "d5c3a09d",
   "metadata": {},
   "outputs": [
    {
     "data": {
      "text/plain": [
       "101-element Vector{StaticArraysCore.SVector{2, Int64}}:\n",
       " [1, 1]\n",
       " [2, 1]\n",
       " [3, 1]\n",
       " [4, 1]\n",
       " [5, 1]\n",
       " [6, 1]\n",
       " [7, 1]\n",
       " [8, 1]\n",
       " [9, 1]\n",
       " [10, 1]\n",
       " [1, 2]\n",
       " [2, 2]\n",
       " [3, 2]\n",
       " ⋮\n",
       " [10, 9]\n",
       " [1, 10]\n",
       " [2, 10]\n",
       " [3, 10]\n",
       " [4, 10]\n",
       " [5, 10]\n",
       " [6, 10]\n",
       " [7, 10]\n",
       " [8, 10]\n",
       " [9, 10]\n",
       " [10, 10]\n",
       " [-1, -1]"
      ]
     },
     "execution_count": 12,
     "metadata": {},
     "output_type": "execute_result"
    }
   ],
   "source": [
    "ordered_states(m)"
   ]
  },
  {
   "cell_type": "markdown",
   "id": "f39c2c06",
   "metadata": {},
   "source": [
    "## For Homework 2, you only need to use state indices\n",
    "(if you want)"
   ]
  },
  {
   "cell_type": "markdown",
   "id": "bc26f131",
   "metadata": {},
   "source": [
    "# Linear Algebra"
   ]
  },
  {
   "cell_type": "code",
   "execution_count": 22,
   "id": "2458e2e0",
   "metadata": {},
   "outputs": [
    {
     "data": {
      "text/plain": [
       "2×2 Matrix{Int64}:\n",
       " 1  2\n",
       " 3  4"
      ]
     },
     "execution_count": 22,
     "metadata": {},
     "output_type": "execute_result"
    }
   ],
   "source": [
    "x = [1, 2]\n",
    "A = [1 2; 3 4]"
   ]
  },
  {
   "cell_type": "code",
   "execution_count": 23,
   "id": "f2a957c1",
   "metadata": {},
   "outputs": [
    {
     "data": {
      "text/plain": [
       "2×2 Matrix{Float64}:\n",
       " -2.0   1.0\n",
       "  1.5  -0.5"
      ]
     },
     "execution_count": 23,
     "metadata": {},
     "output_type": "execute_result"
    }
   ],
   "source": [
    "inv(A)"
   ]
  },
  {
   "cell_type": "code",
   "execution_count": 24,
   "id": "19164298",
   "metadata": {},
   "outputs": [
    {
     "data": {
      "text/plain": [
       "2.23606797749979"
      ]
     },
     "execution_count": 24,
     "metadata": {},
     "output_type": "execute_result"
    }
   ],
   "source": [
    "norm(x)"
   ]
  },
  {
   "cell_type": "code",
   "execution_count": 25,
   "id": "6d547baf",
   "metadata": {},
   "outputs": [],
   "source": [
    "using LinearAlgebra: norm"
   ]
  },
  {
   "cell_type": "code",
   "execution_count": 26,
   "id": "8754b88c",
   "metadata": {},
   "outputs": [
    {
     "data": {
      "text/plain": [
       "2.23606797749979"
      ]
     },
     "execution_count": 26,
     "metadata": {},
     "output_type": "execute_result"
    }
   ],
   "source": [
    "norm(x)"
   ]
  },
  {
   "cell_type": "markdown",
   "id": "ce0562dc",
   "metadata": {},
   "source": [
    "## Use the \"dot syntax\" to broadcast operations"
   ]
  },
  {
   "cell_type": "code",
   "execution_count": 27,
   "id": "94acbbc4",
   "metadata": {},
   "outputs": [
    {
     "ename": "LoadError",
     "evalue": "MethodError: no method matching ^(::Vector{Int64}, ::Int64)\n\u001b[0mClosest candidates are:\n\u001b[0m  ^(\u001b[91m::Union{AbstractChar, AbstractString}\u001b[39m, ::Integer) at strings/basic.jl:730\n\u001b[0m  ^(\u001b[91m::LinearAlgebra.Symmetric{var\"#s884\", S} where {var\"#s884\"<:Real, S<:(AbstractMatrix{<:var\"#s884\"})}\u001b[39m, ::Integer) at /opt/julia-1.8.0/share/julia/stdlib/v1.8/LinearAlgebra/src/symmetric.jl:674\n\u001b[0m  ^(\u001b[91m::LinearAlgebra.Symmetric{var\"#s884\", S} where {var\"#s884\"<:Complex, S<:(AbstractMatrix{<:var\"#s884\"})}\u001b[39m, ::Integer) at /opt/julia-1.8.0/share/julia/stdlib/v1.8/LinearAlgebra/src/symmetric.jl:675\n\u001b[0m  ...",
     "output_type": "error",
     "traceback": [
      "MethodError: no method matching ^(::Vector{Int64}, ::Int64)\n\u001b[0mClosest candidates are:\n\u001b[0m  ^(\u001b[91m::Union{AbstractChar, AbstractString}\u001b[39m, ::Integer) at strings/basic.jl:730\n\u001b[0m  ^(\u001b[91m::LinearAlgebra.Symmetric{var\"#s884\", S} where {var\"#s884\"<:Real, S<:(AbstractMatrix{<:var\"#s884\"})}\u001b[39m, ::Integer) at /opt/julia-1.8.0/share/julia/stdlib/v1.8/LinearAlgebra/src/symmetric.jl:674\n\u001b[0m  ^(\u001b[91m::LinearAlgebra.Symmetric{var\"#s884\", S} where {var\"#s884\"<:Complex, S<:(AbstractMatrix{<:var\"#s884\"})}\u001b[39m, ::Integer) at /opt/julia-1.8.0/share/julia/stdlib/v1.8/LinearAlgebra/src/symmetric.jl:675\n\u001b[0m  ...",
      "",
      "Stacktrace:",
      " [1] literal_pow(f::typeof(^), x::Vector{Int64}, #unused#::Val{2})",
      "   @ Base ./intfuncs.jl:340",
      " [2] top-level scope",
      "   @ In[27]:1"
     ]
    }
   ],
   "source": [
    "x^2"
   ]
  },
  {
   "cell_type": "code",
   "execution_count": 28,
   "id": "2edde469",
   "metadata": {},
   "outputs": [
    {
     "data": {
      "text/plain": [
       "2-element Vector{Int64}:\n",
       " 1\n",
       " 4"
      ]
     },
     "execution_count": 28,
     "metadata": {},
     "output_type": "execute_result"
    }
   ],
   "source": [
    "x.^2"
   ]
  },
  {
   "cell_type": "markdown",
   "id": "fe3dcb1d",
   "metadata": {},
   "source": [
    "## It automatically works for any function (including your own)"
   ]
  },
  {
   "cell_type": "code",
   "execution_count": 29,
   "id": "a3f1fde8",
   "metadata": {},
   "outputs": [
    {
     "data": {
      "text/plain": [
       "f (generic function with 1 method)"
      ]
     },
     "execution_count": 29,
     "metadata": {},
     "output_type": "execute_result"
    }
   ],
   "source": [
    "f(a) = sqrt(a) + 1"
   ]
  },
  {
   "cell_type": "code",
   "execution_count": 30,
   "id": "2fa2f28f",
   "metadata": {},
   "outputs": [
    {
     "ename": "LoadError",
     "evalue": "MethodError: no method matching sqrt(::Vector{Int64})\n\u001b[0mClosest candidates are:\n\u001b[0m  sqrt(\u001b[91m::Union{Float32, Float64}\u001b[39m) at math.jl:590\n\u001b[0m  sqrt(\u001b[91m::StridedMatrix{T}\u001b[39m) where T<:Union{Real, Complex} at /opt/julia-1.8.0/share/julia/stdlib/v1.8/LinearAlgebra/src/dense.jl:853\n\u001b[0m  sqrt(\u001b[91m::PDMats.ScalMat\u001b[39m) at ~/.julia/packages/PDMats/ZW0lN/src/scalmat.jl:68\n\u001b[0m  ...",
     "output_type": "error",
     "traceback": [
      "MethodError: no method matching sqrt(::Vector{Int64})\n\u001b[0mClosest candidates are:\n\u001b[0m  sqrt(\u001b[91m::Union{Float32, Float64}\u001b[39m) at math.jl:590\n\u001b[0m  sqrt(\u001b[91m::StridedMatrix{T}\u001b[39m) where T<:Union{Real, Complex} at /opt/julia-1.8.0/share/julia/stdlib/v1.8/LinearAlgebra/src/dense.jl:853\n\u001b[0m  sqrt(\u001b[91m::PDMats.ScalMat\u001b[39m) at ~/.julia/packages/PDMats/ZW0lN/src/scalmat.jl:68\n\u001b[0m  ...",
      "",
      "Stacktrace:",
      " [1] f(a::Vector{Int64})",
      "   @ Main ./In[29]:1",
      " [2] top-level scope",
      "   @ In[30]:1"
     ]
    }
   ],
   "source": [
    "f(x)"
   ]
  },
  {
   "cell_type": "code",
   "execution_count": 31,
   "id": "cbca34f5",
   "metadata": {},
   "outputs": [
    {
     "data": {
      "text/plain": [
       "2-element Vector{Float64}:\n",
       " 2.0\n",
       " 2.414213562373095"
      ]
     },
     "execution_count": 31,
     "metadata": {},
     "output_type": "execute_result"
    }
   ],
   "source": [
    "f.(x)"
   ]
  },
  {
   "cell_type": "markdown",
   "id": "2a2967ba",
   "metadata": {},
   "source": [
    "# Dictionaries\n",
    "\n",
    "Dictionaries are hash maps that can store any object with any index"
   ]
  },
  {
   "cell_type": "code",
   "execution_count": 35,
   "id": "f2ae151a",
   "metadata": {},
   "outputs": [
    {
     "data": {
      "text/plain": [
       "Dict{Any, Int64} with 2 entries:\n",
       "  2   => 3\n",
       "  \"a\" => 1"
      ]
     },
     "execution_count": 35,
     "metadata": {},
     "output_type": "execute_result"
    }
   ],
   "source": [
    "d = Dict(\"a\"=>1, 2=>3)"
   ]
  },
  {
   "cell_type": "code",
   "execution_count": 36,
   "id": "3c5dc889",
   "metadata": {},
   "outputs": [
    {
     "data": {
      "text/plain": [
       "3"
      ]
     },
     "execution_count": 36,
     "metadata": {},
     "output_type": "execute_result"
    }
   ],
   "source": [
    "d[2]"
   ]
  },
  {
   "cell_type": "code",
   "execution_count": 37,
   "id": "a6c2ed5f",
   "metadata": {},
   "outputs": [
    {
     "ename": "LoadError",
     "evalue": "KeyError: key 1 not found",
     "output_type": "error",
     "traceback": [
      "KeyError: key 1 not found",
      "",
      "Stacktrace:",
      " [1] getindex(h::Dict{Any, Int64}, key::Int64)",
      "   @ Base ./dict.jl:498",
      " [2] top-level scope",
      "   @ In[37]:1"
     ]
    }
   ],
   "source": [
    "d[1]"
   ]
  },
  {
   "cell_type": "code",
   "execution_count": 38,
   "id": "ccc34c8d",
   "metadata": {},
   "outputs": [
    {
     "data": {
      "text/plain": [
       "5"
      ]
     },
     "execution_count": 38,
     "metadata": {},
     "output_type": "execute_result"
    }
   ],
   "source": [
    "d[4] = 5"
   ]
  },
  {
   "cell_type": "code",
   "execution_count": 39,
   "id": "26804ff7",
   "metadata": {},
   "outputs": [
    {
     "data": {
      "text/plain": [
       "Dict{Any, Int64} with 3 entries:\n",
       "  4   => 5\n",
       "  2   => 3\n",
       "  \"a\" => 1"
      ]
     },
     "execution_count": 39,
     "metadata": {},
     "output_type": "execute_result"
    }
   ],
   "source": [
    "d"
   ]
  },
  {
   "cell_type": "code",
   "execution_count": 40,
   "id": "bf07a7ff",
   "metadata": {},
   "outputs": [],
   "source": [
    "using BenchmarkTools"
   ]
  },
  {
   "cell_type": "code",
   "execution_count": 41,
   "id": "cb557509",
   "metadata": {},
   "outputs": [
    {
     "data": {
      "text/plain": [
       "BenchmarkTools.Trial: 10000 samples with 1000 evaluations.\n",
       " Range \u001b[90m(\u001b[39m\u001b[36m\u001b[1mmin\u001b[22m\u001b[39m … \u001b[35mmax\u001b[39m\u001b[90m):  \u001b[39m\u001b[36m\u001b[1m3.362 ns\u001b[22m\u001b[39m … \u001b[35m36.422 ns\u001b[39m  \u001b[90m┊\u001b[39m GC \u001b[90m(\u001b[39mmin … max\u001b[90m): \u001b[39m0.00% … 0.00%\n",
       " Time  \u001b[90m(\u001b[39m\u001b[34m\u001b[1mmedian\u001b[22m\u001b[39m\u001b[90m):     \u001b[39m\u001b[34m\u001b[1m3.624 ns              \u001b[22m\u001b[39m\u001b[90m┊\u001b[39m GC \u001b[90m(\u001b[39mmedian\u001b[90m):    \u001b[39m0.00%\n",
       " Time  \u001b[90m(\u001b[39m\u001b[32m\u001b[1mmean\u001b[22m\u001b[39m ± \u001b[32mσ\u001b[39m\u001b[90m):   \u001b[39m\u001b[32m\u001b[1m3.822 ns\u001b[22m\u001b[39m ± \u001b[32m 0.693 ns\u001b[39m  \u001b[90m┊\u001b[39m GC \u001b[90m(\u001b[39mmean ± σ\u001b[90m):  \u001b[39m0.00% ± 0.00%\n",
       "\n",
       "  \u001b[39m \u001b[39m \u001b[39m \u001b[39m \u001b[39m \u001b[39m \u001b[39m \u001b[39m█\u001b[39m \u001b[39m \u001b[39m \u001b[39m \u001b[39m \u001b[39m \u001b[34m▁\u001b[39m\u001b[39m \u001b[39m \u001b[39m \u001b[39m \u001b[39m \u001b[39m \u001b[39m \u001b[39m \u001b[39m \u001b[39m \u001b[32m \u001b[39m\u001b[39m \u001b[39m \u001b[39m \u001b[39m \u001b[39m \u001b[39m \u001b[39m \u001b[39m \u001b[39m \u001b[39m \u001b[39m \u001b[39m \u001b[39m \u001b[39m \u001b[39m \u001b[39m \u001b[39m \u001b[39m \u001b[39m \u001b[39m \u001b[39m \u001b[39m▅\u001b[39m \u001b[39m \u001b[39m \u001b[39m \u001b[39m \u001b[39m \u001b[39m \u001b[39m \u001b[39m \u001b[39m \u001b[39m \u001b[39m \n",
       "  \u001b[39m▇\u001b[39m▃\u001b[39m▁\u001b[39m▁\u001b[39m▁\u001b[39m▁\u001b[39m▃\u001b[39m█\u001b[39m▂\u001b[39m▁\u001b[39m▁\u001b[39m▁\u001b[39m▁\u001b[39m▄\u001b[34m█\u001b[39m\u001b[39m▂\u001b[39m▁\u001b[39m▁\u001b[39m▁\u001b[39m▁\u001b[39m▂\u001b[39m▄\u001b[39m▂\u001b[39m▁\u001b[39m▁\u001b[32m▁\u001b[39m\u001b[39m▁\u001b[39m▁\u001b[39m▁\u001b[39m▆\u001b[39m▂\u001b[39m▁\u001b[39m▁\u001b[39m▁\u001b[39m▁\u001b[39m▁\u001b[39m▁\u001b[39m▃\u001b[39m▃\u001b[39m▂\u001b[39m▁\u001b[39m▁\u001b[39m▁\u001b[39m▁\u001b[39m▁\u001b[39m▁\u001b[39m▃\u001b[39m█\u001b[39m▂\u001b[39m▁\u001b[39m▁\u001b[39m▁\u001b[39m▁\u001b[39m▁\u001b[39m▁\u001b[39m▁\u001b[39m▂\u001b[39m▆\u001b[39m \u001b[39m▃\n",
       "  3.36 ns\u001b[90m        Histogram: frequency by time\u001b[39m        4.42 ns \u001b[0m\u001b[1m<\u001b[22m\n",
       "\n",
       " Memory estimate\u001b[90m: \u001b[39m\u001b[33m0 bytes\u001b[39m, allocs estimate\u001b[90m: \u001b[39m\u001b[33m0\u001b[39m."
      ]
     },
     "execution_count": 41,
     "metadata": {},
     "output_type": "execute_result"
    }
   ],
   "source": [
    "@benchmark $(A)[2,2]"
   ]
  },
  {
   "cell_type": "code",
   "execution_count": 43,
   "id": "26705bac",
   "metadata": {},
   "outputs": [
    {
     "data": {
      "text/plain": [
       "BenchmarkTools.Trial: 10000 samples with 996 evaluations.\n",
       " Range \u001b[90m(\u001b[39m\u001b[36m\u001b[1mmin\u001b[22m\u001b[39m … \u001b[35mmax\u001b[39m\u001b[90m):  \u001b[39m\u001b[36m\u001b[1m16.387 ns\u001b[22m\u001b[39m … \u001b[35m62.152 ns\u001b[39m  \u001b[90m┊\u001b[39m GC \u001b[90m(\u001b[39mmin … max\u001b[90m): \u001b[39m0.00% … 0.00%\n",
       " Time  \u001b[90m(\u001b[39m\u001b[34m\u001b[1mmedian\u001b[22m\u001b[39m\u001b[90m):     \u001b[39m\u001b[34m\u001b[1m16.886 ns              \u001b[22m\u001b[39m\u001b[90m┊\u001b[39m GC \u001b[90m(\u001b[39mmedian\u001b[90m):    \u001b[39m0.00%\n",
       " Time  \u001b[90m(\u001b[39m\u001b[32m\u001b[1mmean\u001b[22m\u001b[39m ± \u001b[32mσ\u001b[39m\u001b[90m):   \u001b[39m\u001b[32m\u001b[1m18.974 ns\u001b[22m\u001b[39m ± \u001b[32m 3.317 ns\u001b[39m  \u001b[90m┊\u001b[39m GC \u001b[90m(\u001b[39mmean ± σ\u001b[90m):  \u001b[39m0.00% ± 0.00%\n",
       "\n",
       "  \u001b[39m▃\u001b[39m \u001b[39m█\u001b[34m \u001b[39m\u001b[39m \u001b[39m \u001b[39m \u001b[39m \u001b[39m \u001b[39m \u001b[39m \u001b[39m \u001b[39m \u001b[39m \u001b[39m \u001b[39m \u001b[32m \u001b[39m\u001b[39m \u001b[39m \u001b[39m \u001b[39m \u001b[39m \u001b[39m \u001b[39m \u001b[39m \u001b[39m \u001b[39m \u001b[39m \u001b[39m \u001b[39m \u001b[39m \u001b[39m \u001b[39m \u001b[39m \u001b[39m \u001b[39m \u001b[39m \u001b[39m \u001b[39m \u001b[39m \u001b[39m \u001b[39m \u001b[39m \u001b[39m \u001b[39m \u001b[39m \u001b[39m \u001b[39m \u001b[39m \u001b[39m \u001b[39m \u001b[39m \u001b[39m \u001b[39m \u001b[39m \u001b[39m \u001b[39m \u001b[39m \u001b[39m \u001b[39m \u001b[39m \n",
       "  \u001b[39m█\u001b[39m▂\u001b[39m█\u001b[34m▆\u001b[39m\u001b[39m▂\u001b[39m▃\u001b[39m▂\u001b[39m▁\u001b[39m▂\u001b[39m▂\u001b[39m▁\u001b[39m▃\u001b[39m▃\u001b[39m▂\u001b[39m▂\u001b[39m▄\u001b[32m▂\u001b[39m\u001b[39m▂\u001b[39m▃\u001b[39m▂\u001b[39m▂\u001b[39m▂\u001b[39m▃\u001b[39m▂\u001b[39m▂\u001b[39m▁\u001b[39m▅\u001b[39m▂\u001b[39m▂\u001b[39m▂\u001b[39m▂\u001b[39m▆\u001b[39m▂\u001b[39m▂\u001b[39m▂\u001b[39m▃\u001b[39m▃\u001b[39m▂\u001b[39m▂\u001b[39m▂\u001b[39m▂\u001b[39m▂\u001b[39m▂\u001b[39m▁\u001b[39m▁\u001b[39m▂\u001b[39m▃\u001b[39m▂\u001b[39m▁\u001b[39m▂\u001b[39m▁\u001b[39m▂\u001b[39m▃\u001b[39m▂\u001b[39m▂\u001b[39m▁\u001b[39m▂\u001b[39m▂\u001b[39m▅\u001b[39m \u001b[39m▂\n",
       "  16.4 ns\u001b[90m         Histogram: frequency by time\u001b[39m        26.1 ns \u001b[0m\u001b[1m<\u001b[22m\n",
       "\n",
       " Memory estimate\u001b[90m: \u001b[39m\u001b[33m0 bytes\u001b[39m, allocs estimate\u001b[90m: \u001b[39m\u001b[33m0\u001b[39m."
      ]
     },
     "execution_count": 43,
     "metadata": {},
     "output_type": "execute_result"
    }
   ],
   "source": [
    "@benchmark $(d)[\"a\"]"
   ]
  },
  {
   "cell_type": "code",
   "execution_count": null,
   "id": "b6480580",
   "metadata": {},
   "outputs": [],
   "source": []
  }
 ],
 "metadata": {
  "kernelspec": {
   "display_name": "Julia 1.11.3",
   "language": "julia",
   "name": "julia-1.11"
  },
  "language_info": {
   "file_extension": ".jl",
   "mimetype": "application/julia",
   "name": "julia",
   "version": "1.11.3"
  }
 },
 "nbformat": 4,
 "nbformat_minor": 5
}
