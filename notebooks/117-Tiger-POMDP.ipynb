{
 "cells": [
  {
   "cell_type": "code",
   "execution_count": 1,
   "id": "0d0817cb",
   "metadata": {},
   "outputs": [],
   "source": [
    "using POMDPs\n",
    "using QuickPOMDPs\n",
    "using POMDPTools: Deterministic, Uniform, SparseCat, stepthrough, RandomPolicy, FunctionPolicy"
   ]
  },
  {
   "cell_type": "code",
   "execution_count": 3,
   "id": "89e75715",
   "metadata": {},
   "outputs": [
    {
     "data": {
      "text/plain": [
       "QuickPOMDP{UUID(\"4ebb782b-890d-42cc-ae9a-fb13b0ab767a\"), String, String, String, @NamedTuple{stateindex::Dict{String, Int64}, isterminal::Bool, obsindex::Dict{String, Int64}, states::Vector{String}, observations::Vector{String}, discount::Float64, actions::Vector{String}, observation::var\"#16#19\", actionindex::Dict{String, Int64}, transition::var\"#15#18\", reward::var\"#17#20\", initialstate::Uniform{Set{String}}}}((stateindex = Dict(\"left\" => 1, \"right\" => 2), isterminal = false, obsindex = Dict(\"left\" => 1, \"right\" => 2), states = [\"left\", \"right\"], observations = [\"left\", \"right\"], discount = 0.95, actions = [\"left\", \"right\", \"listen\"], observation = var\"#16#19\"(), actionindex = Dict(\"left\" => 1, \"right\" => 2, \"listen\" => 3), transition = var\"#15#18\"(), reward = var\"#17#20\"(), initialstate = Uniform{Set{String}}(Set([\"left\", \"right\"]))))"
      ]
     },
     "metadata": {},
     "output_type": "display_data"
    }
   ],
   "source": [
    "tiger = QuickPOMDP(\n",
    "    states = [\"left\", \"right\"],\n",
    "    actions = [\"left\", \"right\", \"listen\"],\n",
    "    observations = [\"left\", \"right\"],\n",
    "    \n",
    "    transition = function (s, a)\n",
    "        if a == \"listen\"\n",
    "            return Deterministic(s)\n",
    "        else\n",
    "            return Uniform([\"left\", \"right\"])\n",
    "        end\n",
    "    end,\n",
    "    \n",
    "    observation = function (a, sp)\n",
    "        if a == \"listen\"\n",
    "            if sp == \"left\"\n",
    "                return SparseCat([\"left\", \"right\"], [0.85, 0.15])\n",
    "            else\n",
    "                return SparseCat([\"right\", \"left\"], [0.85, 0.15])\n",
    "            end\n",
    "        else\n",
    "            return Uniform([\"left\", \"right\"])\n",
    "        end\n",
    "    end,\n",
    "    \n",
    "    reward = function (s, a)\n",
    "        if a == \"listen\"\n",
    "            return -1.0\n",
    "        elseif a == s\n",
    "            return -100.0\n",
    "        else\n",
    "            return 10.0\n",
    "        end\n",
    "    end,\n",
    "    \n",
    "    initialstate = Uniform([\"left\", \"right\"]),\n",
    "    \n",
    "    discount = 0.95\n",
    ")"
   ]
  },
  {
   "cell_type": "code",
   "execution_count": 4,
   "id": "7bf49e4f",
   "metadata": {},
   "outputs": [
    {
     "data": {
      "text/plain": [
       "(s = \"right\", a = \"right\", r = -100.0, sp = \"right\", o = \"right\")"
      ]
     },
     "metadata": {},
     "output_type": "display_data"
    },
    {
     "data": {
      "text/plain": [
       "(s = \"right\", a = \"listen\", r = -1.0, sp = \"right\", o = \"right\")"
      ]
     },
     "metadata": {},
     "output_type": "display_data"
    },
    {
     "data": {
      "text/plain": [
       "(s = \"right\", a = \"right\", r = -100.0, sp = \"right\", o = \"right\")"
      ]
     },
     "metadata": {},
     "output_type": "display_data"
    },
    {
     "data": {
      "text/plain": [
       "(s = \"right\", a = \"left\", r = 10.0, sp = \"left\", o = \"right\")"
      ]
     },
     "metadata": {},
     "output_type": "display_data"
    },
    {
     "data": {
      "text/plain": [
       "(s = \"left\", a = \"right\", r = 10.0, sp = \"right\", o = \"left\")"
      ]
     },
     "metadata": {},
     "output_type": "display_data"
    },
    {
     "data": {
      "text/plain": [
       "(s = \"right\", a = \"right\", r = -100.0, sp = \"left\", o = \"right\")"
      ]
     },
     "metadata": {},
     "output_type": "display_data"
    },
    {
     "data": {
      "text/plain": [
       "(s = \"left\", a = \"left\", r = -100.0, sp = \"right\", o = \"left\")"
      ]
     },
     "metadata": {},
     "output_type": "display_data"
    },
    {
     "data": {
      "text/plain": [
       "(s = \"right\", a = \"listen\", r = -1.0, sp = \"right\", o = \"right\")"
      ]
     },
     "metadata": {},
     "output_type": "display_data"
    },
    {
     "data": {
      "text/plain": [
       "(s = \"right\", a = \"left\", r = 10.0, sp = \"right\", o = \"right\")"
      ]
     },
     "metadata": {},
     "output_type": "display_data"
    },
    {
     "data": {
      "text/plain": [
       "(s = \"right\", a = \"listen\", r = -1.0, sp = \"right\", o = \"right\")"
      ]
     },
     "metadata": {},
     "output_type": "display_data"
    }
   ],
   "source": [
    "for step in stepthrough(tiger, RandomPolicy(tiger), \"s,a,r,sp,o\", max_steps=10)\n",
    "    display(step)\n",
    "end"
   ]
  },
  {
   "cell_type": "code",
   "execution_count": 5,
   "id": "6a3b669a",
   "metadata": {},
   "outputs": [
    {
     "data": {
      "text/plain": [
       "belief_update (generic function with 1 method)"
      ]
     },
     "metadata": {},
     "output_type": "display_data"
    }
   ],
   "source": [
    "function belief_update(m::POMDP, b, a, o)\n",
    "    states = collect(support(b))\n",
    "    probs = zeros(length(states))\n",
    "    for i in 1:length(states)\n",
    "        z = observation(m, a, states[i])\n",
    "        sp = states[i]\n",
    "        probs[i] = pdf(z, o)*sum(s -> pdf(b, s)*pdf(transition(m, s, a), sp), states)\n",
    "    end\n",
    "    probs ./= sum(probs)\n",
    "    return SparseCat(states, probs)\n",
    "end"
   ]
  },
  {
   "cell_type": "code",
   "execution_count": 7,
   "id": "04fd8e5b",
   "metadata": {},
   "outputs": [
    {
     "data": {
      "text/plain": [
       "                      \u001b[97;1mUniform distribution\u001b[0m            \n",
       "           \u001b[38;5;8m┌                                        ┐\u001b[0m \n",
       "    \"left\" \u001b[38;5;8m┤\u001b[0m\u001b[38;5;2m■■■■■■■■■■■■■■■■■■■■■■■■■■■■■■■■■■■\u001b[0m 0.5 \u001b[38;5;8m \u001b[0m \u001b[38;5;8m\u001b[0m\n",
       "   \"right\" \u001b[38;5;8m┤\u001b[0m\u001b[38;5;2m■■■■■■■■■■■■■■■■■■■■■■■■■■■■■■■■■■■\u001b[0m 0.5 \u001b[38;5;8m \u001b[0m \u001b[38;5;8m\u001b[0m\n",
       "           \u001b[38;5;8m└                                        ┘\u001b[0m "
      ]
     },
     "metadata": {},
     "output_type": "display_data"
    },
    {
     "data": {
      "text/plain": [
       "(s = \"right\", a = \"left\", r = 10.0, sp = \"right\", o = \"right\")"
      ]
     },
     "metadata": {},
     "output_type": "display_data"
    },
    {
     "data": {
      "text/plain": [
       "                     \u001b[97;1mSparseCat distribution\u001b[0m           \n",
       "           \u001b[38;5;8m┌                                        ┐\u001b[0m \n",
       "    \"left\" \u001b[38;5;8m┤\u001b[0m\u001b[38;5;2m■■■■■■■■■■■■■■■■■■■■■■■■■■■■■■■■■■■\u001b[0m 0.5 \u001b[38;5;8m \u001b[0m \u001b[38;5;8m\u001b[0m\n",
       "   \"right\" \u001b[38;5;8m┤\u001b[0m\u001b[38;5;2m■■■■■■■■■■■■■■■■■■■■■■■■■■■■■■■■■■■\u001b[0m 0.5 \u001b[38;5;8m \u001b[0m \u001b[38;5;8m\u001b[0m\n",
       "           \u001b[38;5;8m└                                        ┘\u001b[0m "
      ]
     },
     "metadata": {},
     "output_type": "display_data"
    },
    {
     "data": {
      "text/plain": [
       "(s = \"right\", a = \"left\", r = 10.0, sp = \"left\", o = \"left\")"
      ]
     },
     "metadata": {},
     "output_type": "display_data"
    },
    {
     "data": {
      "text/plain": [
       "                     \u001b[97;1mSparseCat distribution\u001b[0m           \n",
       "           \u001b[38;5;8m┌                                        ┐\u001b[0m \n",
       "    \"left\" \u001b[38;5;8m┤\u001b[0m\u001b[38;5;2m■■■■■■■■■■■■■■■■■■■■■■■■■■■■■■■■■■■\u001b[0m 0.5 \u001b[38;5;8m \u001b[0m \u001b[38;5;8m\u001b[0m\n",
       "   \"right\" \u001b[38;5;8m┤\u001b[0m\u001b[38;5;2m■■■■■■■■■■■■■■■■■■■■■■■■■■■■■■■■■■■\u001b[0m 0.5 \u001b[38;5;8m \u001b[0m \u001b[38;5;8m\u001b[0m\n",
       "           \u001b[38;5;8m└                                        ┘\u001b[0m "
      ]
     },
     "metadata": {},
     "output_type": "display_data"
    },
    {
     "data": {
      "text/plain": [
       "(s = \"left\", a = \"left\", r = -100.0, sp = \"right\", o = \"right\")"
      ]
     },
     "metadata": {},
     "output_type": "display_data"
    },
    {
     "data": {
      "text/plain": [
       "                     \u001b[97;1mSparseCat distribution\u001b[0m           \n",
       "           \u001b[38;5;8m┌                                        ┐\u001b[0m \n",
       "    \"left\" \u001b[38;5;8m┤\u001b[0m\u001b[38;5;2m■■■■■■■■■■■■■■■■■■■■■■■■■■■■■■■■■■■\u001b[0m 0.5 \u001b[38;5;8m \u001b[0m \u001b[38;5;8m\u001b[0m\n",
       "   \"right\" \u001b[38;5;8m┤\u001b[0m\u001b[38;5;2m■■■■■■■■■■■■■■■■■■■■■■■■■■■■■■■■■■■\u001b[0m 0.5 \u001b[38;5;8m \u001b[0m \u001b[38;5;8m\u001b[0m\n",
       "           \u001b[38;5;8m└                                        ┘\u001b[0m "
      ]
     },
     "metadata": {},
     "output_type": "display_data"
    },
    {
     "data": {
      "text/plain": [
       "(s = \"right\", a = \"left\", r = 10.0, sp = \"right\", o = \"right\")"
      ]
     },
     "metadata": {},
     "output_type": "display_data"
    },
    {
     "data": {
      "text/plain": [
       "                     \u001b[97;1mSparseCat distribution\u001b[0m           \n",
       "           \u001b[38;5;8m┌                                        ┐\u001b[0m \n",
       "    \"left\" \u001b[38;5;8m┤\u001b[0m\u001b[38;5;2m■■■■■■■■■■■■■■■■■■■■■■■■■■■■■■■■■■■\u001b[0m 0.5 \u001b[38;5;8m \u001b[0m \u001b[38;5;8m\u001b[0m\n",
       "   \"right\" \u001b[38;5;8m┤\u001b[0m\u001b[38;5;2m■■■■■■■■■■■■■■■■■■■■■■■■■■■■■■■■■■■\u001b[0m 0.5 \u001b[38;5;8m \u001b[0m \u001b[38;5;8m\u001b[0m\n",
       "           \u001b[38;5;8m└                                        ┘\u001b[0m "
      ]
     },
     "metadata": {},
     "output_type": "display_data"
    },
    {
     "data": {
      "text/plain": [
       "(s = \"right\", a = \"left\", r = 10.0, sp = \"left\", o = \"right\")"
      ]
     },
     "metadata": {},
     "output_type": "display_data"
    },
    {
     "data": {
      "text/plain": [
       "                     \u001b[97;1mSparseCat distribution\u001b[0m           \n",
       "           \u001b[38;5;8m┌                                        ┐\u001b[0m \n",
       "    \"left\" \u001b[38;5;8m┤\u001b[0m\u001b[38;5;2m■■■■■■■■■■■■■■■■■■■■■■■■■■■■■■■■■■■\u001b[0m 0.5 \u001b[38;5;8m \u001b[0m \u001b[38;5;8m\u001b[0m\n",
       "   \"right\" \u001b[38;5;8m┤\u001b[0m\u001b[38;5;2m■■■■■■■■■■■■■■■■■■■■■■■■■■■■■■■■■■■\u001b[0m 0.5 \u001b[38;5;8m \u001b[0m \u001b[38;5;8m\u001b[0m\n",
       "           \u001b[38;5;8m└                                        ┘\u001b[0m "
      ]
     },
     "metadata": {},
     "output_type": "display_data"
    },
    {
     "data": {
      "text/plain": [
       "(s = \"left\", a = \"left\", r = -100.0, sp = \"right\", o = \"left\")"
      ]
     },
     "metadata": {},
     "output_type": "display_data"
    },
    {
     "data": {
      "text/plain": [
       "                     \u001b[97;1mSparseCat distribution\u001b[0m           \n",
       "           \u001b[38;5;8m┌                                        ┐\u001b[0m \n",
       "    \"left\" \u001b[38;5;8m┤\u001b[0m\u001b[38;5;2m■■■■■■■■■■■■■■■■■■■■■■■■■■■■■■■■■■■\u001b[0m 0.5 \u001b[38;5;8m \u001b[0m \u001b[38;5;8m\u001b[0m\n",
       "   \"right\" \u001b[38;5;8m┤\u001b[0m\u001b[38;5;2m■■■■■■■■■■■■■■■■■■■■■■■■■■■■■■■■■■■\u001b[0m 0.5 \u001b[38;5;8m \u001b[0m \u001b[38;5;8m\u001b[0m\n",
       "           \u001b[38;5;8m└                                        ┘\u001b[0m "
      ]
     },
     "metadata": {},
     "output_type": "display_data"
    },
    {
     "data": {
      "text/plain": [
       "(s = \"right\", a = \"left\", r = 10.0, sp = \"left\", o = \"left\")"
      ]
     },
     "metadata": {},
     "output_type": "display_data"
    },
    {
     "data": {
      "text/plain": [
       "                     \u001b[97;1mSparseCat distribution\u001b[0m           \n",
       "           \u001b[38;5;8m┌                                        ┐\u001b[0m \n",
       "    \"left\" \u001b[38;5;8m┤\u001b[0m\u001b[38;5;2m■■■■■■■■■■■■■■■■■■■■■■■■■■■■■■■■■■■\u001b[0m 0.5 \u001b[38;5;8m \u001b[0m \u001b[38;5;8m\u001b[0m\n",
       "   \"right\" \u001b[38;5;8m┤\u001b[0m\u001b[38;5;2m■■■■■■■■■■■■■■■■■■■■■■■■■■■■■■■■■■■\u001b[0m 0.5 \u001b[38;5;8m \u001b[0m \u001b[38;5;8m\u001b[0m\n",
       "           \u001b[38;5;8m└                                        ┘\u001b[0m "
      ]
     },
     "metadata": {},
     "output_type": "display_data"
    },
    {
     "data": {
      "text/plain": [
       "(s = \"left\", a = \"left\", r = -100.0, sp = \"right\", o = \"left\")"
      ]
     },
     "metadata": {},
     "output_type": "display_data"
    },
    {
     "data": {
      "text/plain": [
       "                     \u001b[97;1mSparseCat distribution\u001b[0m           \n",
       "           \u001b[38;5;8m┌                                        ┐\u001b[0m \n",
       "    \"left\" \u001b[38;5;8m┤\u001b[0m\u001b[38;5;2m■■■■■■■■■■■■■■■■■■■■■■■■■■■■■■■■■■■\u001b[0m 0.5 \u001b[38;5;8m \u001b[0m \u001b[38;5;8m\u001b[0m\n",
       "   \"right\" \u001b[38;5;8m┤\u001b[0m\u001b[38;5;2m■■■■■■■■■■■■■■■■■■■■■■■■■■■■■■■■■■■\u001b[0m 0.5 \u001b[38;5;8m \u001b[0m \u001b[38;5;8m\u001b[0m\n",
       "           \u001b[38;5;8m└                                        ┘\u001b[0m "
      ]
     },
     "metadata": {},
     "output_type": "display_data"
    },
    {
     "data": {
      "text/plain": [
       "(s = \"right\", a = \"left\", r = 10.0, sp = \"right\", o = \"left\")"
      ]
     },
     "metadata": {},
     "output_type": "display_data"
    },
    {
     "data": {
      "text/plain": [
       "                     \u001b[97;1mSparseCat distribution\u001b[0m           \n",
       "           \u001b[38;5;8m┌                                        ┐\u001b[0m \n",
       "    \"left\" \u001b[38;5;8m┤\u001b[0m\u001b[38;5;2m■■■■■■■■■■■■■■■■■■■■■■■■■■■■■■■■■■■\u001b[0m 0.5 \u001b[38;5;8m \u001b[0m \u001b[38;5;8m\u001b[0m\n",
       "   \"right\" \u001b[38;5;8m┤\u001b[0m\u001b[38;5;2m■■■■■■■■■■■■■■■■■■■■■■■■■■■■■■■■■■■\u001b[0m 0.5 \u001b[38;5;8m \u001b[0m \u001b[38;5;8m\u001b[0m\n",
       "           \u001b[38;5;8m└                                        ┘\u001b[0m "
      ]
     },
     "metadata": {},
     "output_type": "display_data"
    },
    {
     "data": {
      "text/plain": [
       "(s = \"right\", a = \"left\", r = 10.0, sp = \"left\", o = \"left\")"
      ]
     },
     "metadata": {},
     "output_type": "display_data"
    },
    {
     "data": {
      "text/plain": [
       "                     \u001b[97;1mSparseCat distribution\u001b[0m           \n",
       "           \u001b[38;5;8m┌                                        ┐\u001b[0m \n",
       "    \"left\" \u001b[38;5;8m┤\u001b[0m\u001b[38;5;2m■■■■■■■■■■■■■■■■■■■■■■■■■■■■■■■■■■■\u001b[0m 0.5 \u001b[38;5;8m \u001b[0m \u001b[38;5;8m\u001b[0m\n",
       "   \"right\" \u001b[38;5;8m┤\u001b[0m\u001b[38;5;2m■■■■■■■■■■■■■■■■■■■■■■■■■■■■■■■■■■■\u001b[0m 0.5 \u001b[38;5;8m \u001b[0m \u001b[38;5;8m\u001b[0m\n",
       "           \u001b[38;5;8m└                                        ┘\u001b[0m "
      ]
     },
     "metadata": {},
     "output_type": "display_data"
    }
   ],
   "source": [
    "belief = Uniform([\"left\", \"right\"])\n",
    "display(belief)\n",
    "for step in stepthrough(tiger, FunctionPolicy(_->\"left\"), \"s,a,r,sp,o\", max_steps=10)\n",
    "    display(step)\n",
    "    belief = belief_update(tiger, belief, step.a, step.o)\n",
    "    display(belief)\n",
    "end"
   ]
  },
  {
   "cell_type": "code",
   "execution_count": null,
   "id": "de07d84a",
   "metadata": {},
   "outputs": [],
   "source": []
  }
 ],
 "metadata": {
  "kernelspec": {
   "display_name": "Julia 1.10.2",
   "language": "julia",
   "name": "julia-1.10"
  },
  "language_info": {
   "file_extension": ".jl",
   "mimetype": "application/julia",
   "name": "julia",
   "version": "1.10.2"
  }
 },
 "nbformat": 4,
 "nbformat_minor": 5
}
