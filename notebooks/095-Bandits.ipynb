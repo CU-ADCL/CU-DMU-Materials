{
 "cells": [
  {
   "cell_type": "markdown",
   "metadata": {},
   "source": [
    "# Exploration and Exploitation"
   ]
  },
  {
   "cell_type": "code",
   "execution_count": 15,
   "metadata": {},
   "outputs": [
    {
     "name": "stderr",
     "output_type": "stream",
     "text": [
      "WARNING: using Distributions.params in module Main conflicts with an existing identifier.\n"
     ]
    }
   ],
   "source": [
    "using PGFPlots\n",
    "using Interact\n",
    "using Reactive\n",
    "using Distributions\n",
    "include(\"helpers.jl\")\n",
    "include(\"bandits.jl\");"
   ]
  },
  {
   "cell_type": "markdown",
   "metadata": {},
   "source": [
    "## Multi-Armed Bandit Problems"
   ]
  },
  {
   "cell_type": "code",
   "execution_count": 16,
   "metadata": {
    "scrolled": true
   },
   "outputs": [
    {
     "name": "stderr",
     "output_type": "stream",
     "text": [
      "┌ Warning: attempting to remove probably stale pidfile\n",
      "│   path = /home/zach/.jlassetregistry.lock\n",
      "└ @ Pidfile /home/zach/.julia/packages/Pidfile/DDu3M/src/Pidfile.jl:260\n"
     ]
    },
    {
     "data": {
      "text/html": [
       "<div\n",
       "    class=\"webio-mountpoint\"\n",
       "    data-webio-mountpoint=\"14881572607091721632\"\n",
       ">\n",
       "    <script>\n",
       "    (function(){\n",
       "    // Some integrations (namely, IJulia/Jupyter) use an alternate render pathway than\n",
       "    // just putting the html on the page. If WebIO isn't defined, then it's pretty likely\n",
       "    // that we're in one of those situations and the integration just isn't installed\n",
       "    // correctly.\n",
       "    if (typeof window.WebIO === \"undefined\") {\n",
       "        document\n",
       "            .querySelector('[data-webio-mountpoint=\"14881572607091721632\"]')\n",
       "            .innerHTML = (\n",
       "                '<div style=\"padding: 1em; background-color: #f8d6da; border: 1px solid #f5c6cb; font-weight: bold;\">' +\n",
       "                '<p><strong>WebIO not detected.</strong></p>' +\n",
       "                '<p>Please read ' +\n",
       "                '<a href=\"https://juliagizmos.github.io/WebIO.jl/latest/troubleshooting/not-detected/\" target=\"_blank\">the troubleshooting guide</a> ' +\n",
       "                'for more information on how to resolve this issue.</p>' +\n",
       "                '<p><a href=\"https://juliagizmos.github.io/WebIO.jl/latest/troubleshooting/not-detected/\" target=\"_blank\">https://juliagizmos.github.io/WebIO.jl/latest/troubleshooting/not-detected/</a></p>' +\n",
       "                '</div>'\n",
       "            );\n",
       "        return;\n",
       "    }\n",
       "    WebIO.mount(\n",
       "        document.querySelector('[data-webio-mountpoint=\"14881572607091721632\"]'),\n",
       "        {\"props\":{\"className\":\"field interact-widget\"},\"nodeType\":\"DOM\",\"type\":\"node\",\"instanceArgs\":{\"namespace\":\"html\",\"tag\":\"div\"},\"children\":[{\"props\":{},\"nodeType\":\"Scope\",\"type\":\"node\",\"instanceArgs\":{\"imports\":{\"data\":[{\"name\":\"knockout\",\"type\":\"js\",\"url\":\"\\/assetserver\\/c59f1a69f8f37ac95e719c439185f863392fe7fb-knockout.js\"},{\"name\":\"knockout_punches\",\"type\":\"js\",\"url\":\"\\/assetserver\\/4b8230598c2e79832ee2b8f9f54be76bd0bd94aa-knockout_punches.js\"},{\"name\":null,\"type\":\"js\",\"url\":\"\\/assetserver\\/1f54fee388066eb6f216079e132132e62f39c9da-all.js\"},{\"name\":null,\"type\":\"css\",\"url\":\"\\/assetserver\\/0b66e3a21d894e52e421da78479c9ff2dd423fc1-style.css\"},{\"name\":null,\"type\":\"css\",\"url\":\"\\/assetserver\\/3c7d9e8f7ea75a4abbaaa24bdd527ac7c62490cf-bulma.min.css\"}],\"type\":\"async_block\"},\"id\":\"5726733492039751638\",\"handlers\":{\"loading\":[\"(function (val){return (val!=this.model[\\\"loading\\\"]()) ? (this.valueFromJulia[\\\"loading\\\"]=true, this.model[\\\"loading\\\"](val)) : undefined})\"],\"clicks\":[\"(function (val){return (val!=this.model[\\\"clicks\\\"]()) ? (this.valueFromJulia[\\\"clicks\\\"]=true, this.model[\\\"clicks\\\"](val)) : undefined})\"]},\"systemjs_options\":null,\"mount_callbacks\":[\"function () {\\n    var handler = (function (ko, koPunches) {\\n    ko.punches.enableAll();\\n    ko.bindingHandlers.numericValue = {\\n        init: function(element, valueAccessor, allBindings, data, context) {\\n            var stringified = ko.observable(ko.unwrap(valueAccessor()));\\n            stringified.subscribe(function(value) {\\n                var val = parseFloat(value);\\n                if (!isNaN(val)) {\\n                    valueAccessor()(val);\\n                }\\n            });\\n            valueAccessor().subscribe(function(value) {\\n                var str = JSON.stringify(value);\\n                if ((str == \\\"0\\\") && ([\\\"-0\\\", \\\"-0.\\\"].indexOf(stringified()) >= 0))\\n                     return;\\n                 if ([\\\"null\\\", \\\"\\\"].indexOf(str) >= 0)\\n                     return;\\n                stringified(str);\\n            });\\n            ko.applyBindingsToNode(\\n                element,\\n                {\\n                    value: stringified,\\n                    valueUpdate: allBindings.get('valueUpdate'),\\n                },\\n                context,\\n            );\\n        }\\n    };\\n    var json_data = {\\\"loading\\\":WebIO.getval({\\\"name\\\":\\\"loading\\\",\\\"scope\\\":\\\"5726733492039751638\\\",\\\"id\\\":\\\"2\\\",\\\"type\\\":\\\"observable\\\"}),\\\"clicks\\\":WebIO.getval({\\\"name\\\":\\\"clicks\\\",\\\"scope\\\":\\\"5726733492039751638\\\",\\\"id\\\":\\\"1\\\",\\\"type\\\":\\\"observable\\\"})};\\n    var self = this;\\n    function AppViewModel() {\\n        for (var key in json_data) {\\n            var el = json_data[key];\\n            this[key] = Array.isArray(el) ? ko.observableArray(el) : ko.observable(el);\\n        }\\n        \\n        \\n        [this[\\\"loading\\\"].subscribe((function (val){!(this.valueFromJulia[\\\"loading\\\"]) ? (WebIO.setval({\\\"name\\\":\\\"loading\\\",\\\"scope\\\":\\\"5726733492039751638\\\",\\\"id\\\":\\\"2\\\",\\\"type\\\":\\\"observable\\\"},val)) : undefined; return this.valueFromJulia[\\\"loading\\\"]=false}),self),this[\\\"clicks\\\"].subscribe((function (val){!(this.valueFromJulia[\\\"clicks\\\"]) ? (WebIO.setval({\\\"name\\\":\\\"clicks\\\",\\\"scope\\\":\\\"5726733492039751638\\\",\\\"id\\\":\\\"1\\\",\\\"type\\\":\\\"observable\\\"},val)) : undefined; return this.valueFromJulia[\\\"clicks\\\"]=false}),self)]\\n        \\n    }\\n    self.model = new AppViewModel();\\n    self.valueFromJulia = {};\\n    for (var key in json_data) {\\n        self.valueFromJulia[key] = false;\\n    }\\n    ko.applyBindings(self.model, self.dom);\\n}\\n);\\n    (WebIO.importBlock({\\\"data\\\":[{\\\"name\\\":\\\"knockout\\\",\\\"type\\\":\\\"js\\\",\\\"url\\\":\\\"\\/assetserver\\/c59f1a69f8f37ac95e719c439185f863392fe7fb-knockout.js\\\"},{\\\"name\\\":\\\"knockout_punches\\\",\\\"type\\\":\\\"js\\\",\\\"url\\\":\\\"\\/assetserver\\/4b8230598c2e79832ee2b8f9f54be76bd0bd94aa-knockout_punches.js\\\"}],\\\"type\\\":\\\"async_block\\\"})).then((imports) => handler.apply(this, imports));\\n}\\n\"],\"observables\":{\"loading\":{\"sync\":false,\"id\":\"2\",\"value\":false},\"clicks\":{\"sync\":false,\"id\":\"1\",\"value\":0}}},\"children\":[{\"props\":{\"attributes\":{\"data-bind\":\"click: function (){this.clicks(this.clicks()+1)}, css: {'is-loading' : loading}\"},\"className\":\"is-medium button is-primary\",\"style\":{}},\"nodeType\":\"DOM\",\"type\":\"node\",\"instanceArgs\":{\"namespace\":\"html\",\"tag\":\"button\"},\"children\":[\"Arm 1\"]}]}]},\n",
       "        window,\n",
       "    );\n",
       "    })()\n",
       "    </script>\n",
       "</div>\n"
      ],
      "text/plain": [
       "(div { className=\"field interact-widget\" }\n",
       "    (button { attributes=Dict{Any, Any}(\"data-bind\" => \"click: function (){this.clicks(this.clicks()+1)}, css: {'is-loading' : loading}\") className=\"is-medium button is-primary\" style=Dict{String, Any}() }\n",
       "    \"Arm 1\"))"
      ]
     },
     "metadata": {},
     "output_type": "display_data"
    },
    {
     "data": {
      "text/html": [
       "<div\n",
       "    class=\"webio-mountpoint\"\n",
       "    data-webio-mountpoint=\"4453367976972769629\"\n",
       ">\n",
       "    <script>\n",
       "    (function(){\n",
       "    // Some integrations (namely, IJulia/Jupyter) use an alternate render pathway than\n",
       "    // just putting the html on the page. If WebIO isn't defined, then it's pretty likely\n",
       "    // that we're in one of those situations and the integration just isn't installed\n",
       "    // correctly.\n",
       "    if (typeof window.WebIO === \"undefined\") {\n",
       "        document\n",
       "            .querySelector('[data-webio-mountpoint=\"4453367976972769629\"]')\n",
       "            .innerHTML = (\n",
       "                '<div style=\"padding: 1em; background-color: #f8d6da; border: 1px solid #f5c6cb; font-weight: bold;\">' +\n",
       "                '<p><strong>WebIO not detected.</strong></p>' +\n",
       "                '<p>Please read ' +\n",
       "                '<a href=\"https://juliagizmos.github.io/WebIO.jl/latest/troubleshooting/not-detected/\" target=\"_blank\">the troubleshooting guide</a> ' +\n",
       "                'for more information on how to resolve this issue.</p>' +\n",
       "                '<p><a href=\"https://juliagizmos.github.io/WebIO.jl/latest/troubleshooting/not-detected/\" target=\"_blank\">https://juliagizmos.github.io/WebIO.jl/latest/troubleshooting/not-detected/</a></p>' +\n",
       "                '</div>'\n",
       "            );\n",
       "        return;\n",
       "    }\n",
       "    WebIO.mount(\n",
       "        document.querySelector('[data-webio-mountpoint=\"4453367976972769629\"]'),\n",
       "        {\"props\":{},\"nodeType\":\"Scope\",\"type\":\"node\",\"instanceArgs\":{\"imports\":{\"data\":[],\"type\":\"async_block\"},\"id\":\"11281908325533753493\",\"handlers\":{\"obs-output\":[\"function (value, scope) {\\n    scope.setInnerHTML(value);\\n}\\n\"]},\"systemjs_options\":null,\"mount_callbacks\":[],\"observables\":{\"obs-output\":{\"sync\":false,\"id\":\"5\",\"value\":\"<pre>\\\"0 wins out of 0 tries (NaN percent)\\\"<\\/pre>\"}}},\"children\":[{\"props\":{\"className\":\"webio-observable\",\"setInnerHtml\":\"<pre>\\\"0 wins out of 0 tries (NaN percent)\\\"<\\/pre>\"},\"nodeType\":\"DOM\",\"type\":\"node\",\"instanceArgs\":{\"namespace\":\"html\",\"tag\":\"div\"},\"children\":[]}]},\n",
       "        window,\n",
       "    );\n",
       "    })()\n",
       "    </script>\n",
       "</div>\n"
      ],
      "text/plain": [
       "Observable(\"0 wins out of 0 tries (NaN percent)\")\n"
      ]
     },
     "metadata": {},
     "output_type": "display_data"
    },
    {
     "data": {
      "text/html": [
       "<div\n",
       "    class=\"webio-mountpoint\"\n",
       "    data-webio-mountpoint=\"15992272509066617273\"\n",
       ">\n",
       "    <script>\n",
       "    (function(){\n",
       "    // Some integrations (namely, IJulia/Jupyter) use an alternate render pathway than\n",
       "    // just putting the html on the page. If WebIO isn't defined, then it's pretty likely\n",
       "    // that we're in one of those situations and the integration just isn't installed\n",
       "    // correctly.\n",
       "    if (typeof window.WebIO === \"undefined\") {\n",
       "        document\n",
       "            .querySelector('[data-webio-mountpoint=\"15992272509066617273\"]')\n",
       "            .innerHTML = (\n",
       "                '<div style=\"padding: 1em; background-color: #f8d6da; border: 1px solid #f5c6cb; font-weight: bold;\">' +\n",
       "                '<p><strong>WebIO not detected.</strong></p>' +\n",
       "                '<p>Please read ' +\n",
       "                '<a href=\"https://juliagizmos.github.io/WebIO.jl/latest/troubleshooting/not-detected/\" target=\"_blank\">the troubleshooting guide</a> ' +\n",
       "                'for more information on how to resolve this issue.</p>' +\n",
       "                '<p><a href=\"https://juliagizmos.github.io/WebIO.jl/latest/troubleshooting/not-detected/\" target=\"_blank\">https://juliagizmos.github.io/WebIO.jl/latest/troubleshooting/not-detected/</a></p>' +\n",
       "                '</div>'\n",
       "            );\n",
       "        return;\n",
       "    }\n",
       "    WebIO.mount(\n",
       "        document.querySelector('[data-webio-mountpoint=\"15992272509066617273\"]'),\n",
       "        {\"props\":{\"className\":\"field interact-widget\"},\"nodeType\":\"DOM\",\"type\":\"node\",\"instanceArgs\":{\"namespace\":\"html\",\"tag\":\"div\"},\"children\":[{\"props\":{},\"nodeType\":\"Scope\",\"type\":\"node\",\"instanceArgs\":{\"imports\":{\"data\":[{\"name\":\"knockout\",\"type\":\"js\",\"url\":\"\\/assetserver\\/c59f1a69f8f37ac95e719c439185f863392fe7fb-knockout.js\"},{\"name\":\"knockout_punches\",\"type\":\"js\",\"url\":\"\\/assetserver\\/4b8230598c2e79832ee2b8f9f54be76bd0bd94aa-knockout_punches.js\"},{\"name\":null,\"type\":\"js\",\"url\":\"\\/assetserver\\/1f54fee388066eb6f216079e132132e62f39c9da-all.js\"},{\"name\":null,\"type\":\"css\",\"url\":\"\\/assetserver\\/0b66e3a21d894e52e421da78479c9ff2dd423fc1-style.css\"},{\"name\":null,\"type\":\"css\",\"url\":\"\\/assetserver\\/3c7d9e8f7ea75a4abbaaa24bdd527ac7c62490cf-bulma.min.css\"}],\"type\":\"async_block\"},\"id\":\"4929241573676914246\",\"handlers\":{\"loading\":[\"(function (val){return (val!=this.model[\\\"loading\\\"]()) ? (this.valueFromJulia[\\\"loading\\\"]=true, this.model[\\\"loading\\\"](val)) : undefined})\"],\"clicks\":[\"(function (val){return (val!=this.model[\\\"clicks\\\"]()) ? (this.valueFromJulia[\\\"clicks\\\"]=true, this.model[\\\"clicks\\\"](val)) : undefined})\"]},\"systemjs_options\":null,\"mount_callbacks\":[\"function () {\\n    var handler = (function (ko, koPunches) {\\n    ko.punches.enableAll();\\n    ko.bindingHandlers.numericValue = {\\n        init: function(element, valueAccessor, allBindings, data, context) {\\n            var stringified = ko.observable(ko.unwrap(valueAccessor()));\\n            stringified.subscribe(function(value) {\\n                var val = parseFloat(value);\\n                if (!isNaN(val)) {\\n                    valueAccessor()(val);\\n                }\\n            });\\n            valueAccessor().subscribe(function(value) {\\n                var str = JSON.stringify(value);\\n                if ((str == \\\"0\\\") && ([\\\"-0\\\", \\\"-0.\\\"].indexOf(stringified()) >= 0))\\n                     return;\\n                 if ([\\\"null\\\", \\\"\\\"].indexOf(str) >= 0)\\n                     return;\\n                stringified(str);\\n            });\\n            ko.applyBindingsToNode(\\n                element,\\n                {\\n                    value: stringified,\\n                    valueUpdate: allBindings.get('valueUpdate'),\\n                },\\n                context,\\n            );\\n        }\\n    };\\n    var json_data = {\\\"loading\\\":WebIO.getval({\\\"name\\\":\\\"loading\\\",\\\"scope\\\":\\\"4929241573676914246\\\",\\\"id\\\":\\\"7\\\",\\\"type\\\":\\\"observable\\\"}),\\\"clicks\\\":WebIO.getval({\\\"name\\\":\\\"clicks\\\",\\\"scope\\\":\\\"4929241573676914246\\\",\\\"id\\\":\\\"6\\\",\\\"type\\\":\\\"observable\\\"})};\\n    var self = this;\\n    function AppViewModel() {\\n        for (var key in json_data) {\\n            var el = json_data[key];\\n            this[key] = Array.isArray(el) ? ko.observableArray(el) : ko.observable(el);\\n        }\\n        \\n        \\n        [this[\\\"loading\\\"].subscribe((function (val){!(this.valueFromJulia[\\\"loading\\\"]) ? (WebIO.setval({\\\"name\\\":\\\"loading\\\",\\\"scope\\\":\\\"4929241573676914246\\\",\\\"id\\\":\\\"7\\\",\\\"type\\\":\\\"observable\\\"},val)) : undefined; return this.valueFromJulia[\\\"loading\\\"]=false}),self),this[\\\"clicks\\\"].subscribe((function (val){!(this.valueFromJulia[\\\"clicks\\\"]) ? (WebIO.setval({\\\"name\\\":\\\"clicks\\\",\\\"scope\\\":\\\"4929241573676914246\\\",\\\"id\\\":\\\"6\\\",\\\"type\\\":\\\"observable\\\"},val)) : undefined; return this.valueFromJulia[\\\"clicks\\\"]=false}),self)]\\n        \\n    }\\n    self.model = new AppViewModel();\\n    self.valueFromJulia = {};\\n    for (var key in json_data) {\\n        self.valueFromJulia[key] = false;\\n    }\\n    ko.applyBindings(self.model, self.dom);\\n}\\n);\\n    (WebIO.importBlock({\\\"data\\\":[{\\\"name\\\":\\\"knockout\\\",\\\"type\\\":\\\"js\\\",\\\"url\\\":\\\"\\/assetserver\\/c59f1a69f8f37ac95e719c439185f863392fe7fb-knockout.js\\\"},{\\\"name\\\":\\\"knockout_punches\\\",\\\"type\\\":\\\"js\\\",\\\"url\\\":\\\"\\/assetserver\\/4b8230598c2e79832ee2b8f9f54be76bd0bd94aa-knockout_punches.js\\\"}],\\\"type\\\":\\\"async_block\\\"})).then((imports) => handler.apply(this, imports));\\n}\\n\"],\"observables\":{\"loading\":{\"sync\":false,\"id\":\"7\",\"value\":false},\"clicks\":{\"sync\":false,\"id\":\"6\",\"value\":0}}},\"children\":[{\"props\":{\"attributes\":{\"data-bind\":\"click: function (){this.clicks(this.clicks()+1)}, css: {'is-loading' : loading}\"},\"className\":\"is-medium button is-primary\",\"style\":{}},\"nodeType\":\"DOM\",\"type\":\"node\",\"instanceArgs\":{\"namespace\":\"html\",\"tag\":\"button\"},\"children\":[\"Arm 2\"]}]}]},\n",
       "        window,\n",
       "    );\n",
       "    })()\n",
       "    </script>\n",
       "</div>\n"
      ],
      "text/plain": [
       "(div { className=\"field interact-widget\" }\n",
       "    (button { attributes=Dict{Any, Any}(\"data-bind\" => \"click: function (){this.clicks(this.clicks()+1)}, css: {'is-loading' : loading}\") className=\"is-medium button is-primary\" style=Dict{String, Any}() }\n",
       "    \"Arm 2\"))"
      ]
     },
     "metadata": {},
     "output_type": "display_data"
    },
    {
     "data": {
      "text/html": [
       "<div\n",
       "    class=\"webio-mountpoint\"\n",
       "    data-webio-mountpoint=\"12098327505049940450\"\n",
       ">\n",
       "    <script>\n",
       "    (function(){\n",
       "    // Some integrations (namely, IJulia/Jupyter) use an alternate render pathway than\n",
       "    // just putting the html on the page. If WebIO isn't defined, then it's pretty likely\n",
       "    // that we're in one of those situations and the integration just isn't installed\n",
       "    // correctly.\n",
       "    if (typeof window.WebIO === \"undefined\") {\n",
       "        document\n",
       "            .querySelector('[data-webio-mountpoint=\"12098327505049940450\"]')\n",
       "            .innerHTML = (\n",
       "                '<div style=\"padding: 1em; background-color: #f8d6da; border: 1px solid #f5c6cb; font-weight: bold;\">' +\n",
       "                '<p><strong>WebIO not detected.</strong></p>' +\n",
       "                '<p>Please read ' +\n",
       "                '<a href=\"https://juliagizmos.github.io/WebIO.jl/latest/troubleshooting/not-detected/\" target=\"_blank\">the troubleshooting guide</a> ' +\n",
       "                'for more information on how to resolve this issue.</p>' +\n",
       "                '<p><a href=\"https://juliagizmos.github.io/WebIO.jl/latest/troubleshooting/not-detected/\" target=\"_blank\">https://juliagizmos.github.io/WebIO.jl/latest/troubleshooting/not-detected/</a></p>' +\n",
       "                '</div>'\n",
       "            );\n",
       "        return;\n",
       "    }\n",
       "    WebIO.mount(\n",
       "        document.querySelector('[data-webio-mountpoint=\"12098327505049940450\"]'),\n",
       "        {\"props\":{},\"nodeType\":\"Scope\",\"type\":\"node\",\"instanceArgs\":{\"imports\":{\"data\":[],\"type\":\"async_block\"},\"id\":\"15774305891885369827\",\"handlers\":{\"obs-output\":[\"function (value, scope) {\\n    scope.setInnerHTML(value);\\n}\\n\"]},\"systemjs_options\":null,\"mount_callbacks\":[],\"observables\":{\"obs-output\":{\"sync\":false,\"id\":\"10\",\"value\":\"<pre>\\\"0 wins out of 0 tries (NaN percent)\\\"<\\/pre>\"}}},\"children\":[{\"props\":{\"className\":\"webio-observable\",\"setInnerHtml\":\"<pre>\\\"0 wins out of 0 tries (NaN percent)\\\"<\\/pre>\"},\"nodeType\":\"DOM\",\"type\":\"node\",\"instanceArgs\":{\"namespace\":\"html\",\"tag\":\"div\"},\"children\":[]}]},\n",
       "        window,\n",
       "    );\n",
       "    })()\n",
       "    </script>\n",
       "</div>\n"
      ],
      "text/plain": [
       "Observable(\"0 wins out of 0 tries (NaN percent)\")\n"
      ]
     },
     "metadata": {},
     "output_type": "display_data"
    },
    {
     "data": {
      "text/html": [
       "<div\n",
       "    class=\"webio-mountpoint\"\n",
       "    data-webio-mountpoint=\"8169910536084258392\"\n",
       ">\n",
       "    <script>\n",
       "    (function(){\n",
       "    // Some integrations (namely, IJulia/Jupyter) use an alternate render pathway than\n",
       "    // just putting the html on the page. If WebIO isn't defined, then it's pretty likely\n",
       "    // that we're in one of those situations and the integration just isn't installed\n",
       "    // correctly.\n",
       "    if (typeof window.WebIO === \"undefined\") {\n",
       "        document\n",
       "            .querySelector('[data-webio-mountpoint=\"8169910536084258392\"]')\n",
       "            .innerHTML = (\n",
       "                '<div style=\"padding: 1em; background-color: #f8d6da; border: 1px solid #f5c6cb; font-weight: bold;\">' +\n",
       "                '<p><strong>WebIO not detected.</strong></p>' +\n",
       "                '<p>Please read ' +\n",
       "                '<a href=\"https://juliagizmos.github.io/WebIO.jl/latest/troubleshooting/not-detected/\" target=\"_blank\">the troubleshooting guide</a> ' +\n",
       "                'for more information on how to resolve this issue.</p>' +\n",
       "                '<p><a href=\"https://juliagizmos.github.io/WebIO.jl/latest/troubleshooting/not-detected/\" target=\"_blank\">https://juliagizmos.github.io/WebIO.jl/latest/troubleshooting/not-detected/</a></p>' +\n",
       "                '</div>'\n",
       "            );\n",
       "        return;\n",
       "    }\n",
       "    WebIO.mount(\n",
       "        document.querySelector('[data-webio-mountpoint=\"8169910536084258392\"]'),\n",
       "        {\"props\":{\"className\":\"field interact-widget\"},\"nodeType\":\"DOM\",\"type\":\"node\",\"instanceArgs\":{\"namespace\":\"html\",\"tag\":\"div\"},\"children\":[{\"props\":{},\"nodeType\":\"Scope\",\"type\":\"node\",\"instanceArgs\":{\"imports\":{\"data\":[{\"name\":\"knockout\",\"type\":\"js\",\"url\":\"\\/assetserver\\/c59f1a69f8f37ac95e719c439185f863392fe7fb-knockout.js\"},{\"name\":\"knockout_punches\",\"type\":\"js\",\"url\":\"\\/assetserver\\/4b8230598c2e79832ee2b8f9f54be76bd0bd94aa-knockout_punches.js\"},{\"name\":null,\"type\":\"js\",\"url\":\"\\/assetserver\\/1f54fee388066eb6f216079e132132e62f39c9da-all.js\"},{\"name\":null,\"type\":\"css\",\"url\":\"\\/assetserver\\/0b66e3a21d894e52e421da78479c9ff2dd423fc1-style.css\"},{\"name\":null,\"type\":\"css\",\"url\":\"\\/assetserver\\/3c7d9e8f7ea75a4abbaaa24bdd527ac7c62490cf-bulma.min.css\"}],\"type\":\"async_block\"},\"id\":\"13997033022219694123\",\"handlers\":{\"loading\":[\"(function (val){return (val!=this.model[\\\"loading\\\"]()) ? (this.valueFromJulia[\\\"loading\\\"]=true, this.model[\\\"loading\\\"](val)) : undefined})\"],\"clicks\":[\"(function (val){return (val!=this.model[\\\"clicks\\\"]()) ? (this.valueFromJulia[\\\"clicks\\\"]=true, this.model[\\\"clicks\\\"](val)) : undefined})\"]},\"systemjs_options\":null,\"mount_callbacks\":[\"function () {\\n    var handler = (function (ko, koPunches) {\\n    ko.punches.enableAll();\\n    ko.bindingHandlers.numericValue = {\\n        init: function(element, valueAccessor, allBindings, data, context) {\\n            var stringified = ko.observable(ko.unwrap(valueAccessor()));\\n            stringified.subscribe(function(value) {\\n                var val = parseFloat(value);\\n                if (!isNaN(val)) {\\n                    valueAccessor()(val);\\n                }\\n            });\\n            valueAccessor().subscribe(function(value) {\\n                var str = JSON.stringify(value);\\n                if ((str == \\\"0\\\") && ([\\\"-0\\\", \\\"-0.\\\"].indexOf(stringified()) >= 0))\\n                     return;\\n                 if ([\\\"null\\\", \\\"\\\"].indexOf(str) >= 0)\\n                     return;\\n                stringified(str);\\n            });\\n            ko.applyBindingsToNode(\\n                element,\\n                {\\n                    value: stringified,\\n                    valueUpdate: allBindings.get('valueUpdate'),\\n                },\\n                context,\\n            );\\n        }\\n    };\\n    var json_data = {\\\"loading\\\":WebIO.getval({\\\"name\\\":\\\"loading\\\",\\\"scope\\\":\\\"13997033022219694123\\\",\\\"id\\\":\\\"12\\\",\\\"type\\\":\\\"observable\\\"}),\\\"clicks\\\":WebIO.getval({\\\"name\\\":\\\"clicks\\\",\\\"scope\\\":\\\"13997033022219694123\\\",\\\"id\\\":\\\"11\\\",\\\"type\\\":\\\"observable\\\"})};\\n    var self = this;\\n    function AppViewModel() {\\n        for (var key in json_data) {\\n            var el = json_data[key];\\n            this[key] = Array.isArray(el) ? ko.observableArray(el) : ko.observable(el);\\n        }\\n        \\n        \\n        [this[\\\"loading\\\"].subscribe((function (val){!(this.valueFromJulia[\\\"loading\\\"]) ? (WebIO.setval({\\\"name\\\":\\\"loading\\\",\\\"scope\\\":\\\"13997033022219694123\\\",\\\"id\\\":\\\"12\\\",\\\"type\\\":\\\"observable\\\"},val)) : undefined; return this.valueFromJulia[\\\"loading\\\"]=false}),self),this[\\\"clicks\\\"].subscribe((function (val){!(this.valueFromJulia[\\\"clicks\\\"]) ? (WebIO.setval({\\\"name\\\":\\\"clicks\\\",\\\"scope\\\":\\\"13997033022219694123\\\",\\\"id\\\":\\\"11\\\",\\\"type\\\":\\\"observable\\\"},val)) : undefined; return this.valueFromJulia[\\\"clicks\\\"]=false}),self)]\\n        \\n    }\\n    self.model = new AppViewModel();\\n    self.valueFromJulia = {};\\n    for (var key in json_data) {\\n        self.valueFromJulia[key] = false;\\n    }\\n    ko.applyBindings(self.model, self.dom);\\n}\\n);\\n    (WebIO.importBlock({\\\"data\\\":[{\\\"name\\\":\\\"knockout\\\",\\\"type\\\":\\\"js\\\",\\\"url\\\":\\\"\\/assetserver\\/c59f1a69f8f37ac95e719c439185f863392fe7fb-knockout.js\\\"},{\\\"name\\\":\\\"knockout_punches\\\",\\\"type\\\":\\\"js\\\",\\\"url\\\":\\\"\\/assetserver\\/4b8230598c2e79832ee2b8f9f54be76bd0bd94aa-knockout_punches.js\\\"}],\\\"type\\\":\\\"async_block\\\"})).then((imports) => handler.apply(this, imports));\\n}\\n\"],\"observables\":{\"loading\":{\"sync\":false,\"id\":\"12\",\"value\":false},\"clicks\":{\"sync\":false,\"id\":\"11\",\"value\":0}}},\"children\":[{\"props\":{\"attributes\":{\"data-bind\":\"click: function (){this.clicks(this.clicks()+1)}, css: {'is-loading' : loading}\"},\"className\":\"is-medium button is-primary\",\"style\":{}},\"nodeType\":\"DOM\",\"type\":\"node\",\"instanceArgs\":{\"namespace\":\"html\",\"tag\":\"button\"},\"children\":[\"Arm 3\"]}]}]},\n",
       "        window,\n",
       "    );\n",
       "    })()\n",
       "    </script>\n",
       "</div>\n"
      ],
      "text/plain": [
       "(div { className=\"field interact-widget\" }\n",
       "    (button { attributes=Dict{Any, Any}(\"data-bind\" => \"click: function (){this.clicks(this.clicks()+1)}, css: {'is-loading' : loading}\") className=\"is-medium button is-primary\" style=Dict{String, Any}() }\n",
       "    \"Arm 3\"))"
      ]
     },
     "metadata": {},
     "output_type": "display_data"
    },
    {
     "data": {
      "text/html": [
       "<div\n",
       "    class=\"webio-mountpoint\"\n",
       "    data-webio-mountpoint=\"14042438384916646068\"\n",
       ">\n",
       "    <script>\n",
       "    (function(){\n",
       "    // Some integrations (namely, IJulia/Jupyter) use an alternate render pathway than\n",
       "    // just putting the html on the page. If WebIO isn't defined, then it's pretty likely\n",
       "    // that we're in one of those situations and the integration just isn't installed\n",
       "    // correctly.\n",
       "    if (typeof window.WebIO === \"undefined\") {\n",
       "        document\n",
       "            .querySelector('[data-webio-mountpoint=\"14042438384916646068\"]')\n",
       "            .innerHTML = (\n",
       "                '<div style=\"padding: 1em; background-color: #f8d6da; border: 1px solid #f5c6cb; font-weight: bold;\">' +\n",
       "                '<p><strong>WebIO not detected.</strong></p>' +\n",
       "                '<p>Please read ' +\n",
       "                '<a href=\"https://juliagizmos.github.io/WebIO.jl/latest/troubleshooting/not-detected/\" target=\"_blank\">the troubleshooting guide</a> ' +\n",
       "                'for more information on how to resolve this issue.</p>' +\n",
       "                '<p><a href=\"https://juliagizmos.github.io/WebIO.jl/latest/troubleshooting/not-detected/\" target=\"_blank\">https://juliagizmos.github.io/WebIO.jl/latest/troubleshooting/not-detected/</a></p>' +\n",
       "                '</div>'\n",
       "            );\n",
       "        return;\n",
       "    }\n",
       "    WebIO.mount(\n",
       "        document.querySelector('[data-webio-mountpoint=\"14042438384916646068\"]'),\n",
       "        {\"props\":{},\"nodeType\":\"Scope\",\"type\":\"node\",\"instanceArgs\":{\"imports\":{\"data\":[],\"type\":\"async_block\"},\"id\":\"1939821493909837100\",\"handlers\":{\"obs-output\":[\"function (value, scope) {\\n    scope.setInnerHTML(value);\\n}\\n\"]},\"systemjs_options\":null,\"mount_callbacks\":[],\"observables\":{\"obs-output\":{\"sync\":false,\"id\":\"15\",\"value\":\"<pre>\\\"0 wins out of 0 tries (NaN percent)\\\"<\\/pre>\"}}},\"children\":[{\"props\":{\"className\":\"webio-observable\",\"setInnerHtml\":\"<pre>\\\"0 wins out of 0 tries (NaN percent)\\\"<\\/pre>\"},\"nodeType\":\"DOM\",\"type\":\"node\",\"instanceArgs\":{\"namespace\":\"html\",\"tag\":\"div\"},\"children\":[]}]},\n",
       "        window,\n",
       "    );\n",
       "    })()\n",
       "    </script>\n",
       "</div>\n"
      ],
      "text/plain": [
       "Observable(\"0 wins out of 0 tries (NaN percent)\")\n"
      ]
     },
     "metadata": {},
     "output_type": "display_data"
    },
    {
     "data": {
      "text/html": [
       "<div\n",
       "    class=\"webio-mountpoint\"\n",
       "    data-webio-mountpoint=\"15104570847002947875\"\n",
       ">\n",
       "    <script>\n",
       "    (function(){\n",
       "    // Some integrations (namely, IJulia/Jupyter) use an alternate render pathway than\n",
       "    // just putting the html on the page. If WebIO isn't defined, then it's pretty likely\n",
       "    // that we're in one of those situations and the integration just isn't installed\n",
       "    // correctly.\n",
       "    if (typeof window.WebIO === \"undefined\") {\n",
       "        document\n",
       "            .querySelector('[data-webio-mountpoint=\"15104570847002947875\"]')\n",
       "            .innerHTML = (\n",
       "                '<div style=\"padding: 1em; background-color: #f8d6da; border: 1px solid #f5c6cb; font-weight: bold;\">' +\n",
       "                '<p><strong>WebIO not detected.</strong></p>' +\n",
       "                '<p>Please read ' +\n",
       "                '<a href=\"https://juliagizmos.github.io/WebIO.jl/latest/troubleshooting/not-detected/\" target=\"_blank\">the troubleshooting guide</a> ' +\n",
       "                'for more information on how to resolve this issue.</p>' +\n",
       "                '<p><a href=\"https://juliagizmos.github.io/WebIO.jl/latest/troubleshooting/not-detected/\" target=\"_blank\">https://juliagizmos.github.io/WebIO.jl/latest/troubleshooting/not-detected/</a></p>' +\n",
       "                '</div>'\n",
       "            );\n",
       "        return;\n",
       "    }\n",
       "    WebIO.mount(\n",
       "        document.querySelector('[data-webio-mountpoint=\"15104570847002947875\"]'),\n",
       "        {\"props\":{\"className\":\"interact-widget\"},\"nodeType\":\"DOM\",\"type\":\"node\",\"instanceArgs\":{\"namespace\":\"html\",\"tag\":\"div\"},\"children\":[{\"props\":{},\"nodeType\":\"Scope\",\"type\":\"node\",\"instanceArgs\":{\"imports\":{\"data\":[{\"name\":\"knockout\",\"type\":\"js\",\"url\":\"\\/assetserver\\/c59f1a69f8f37ac95e719c439185f863392fe7fb-knockout.js\"},{\"name\":\"knockout_punches\",\"type\":\"js\",\"url\":\"\\/assetserver\\/4b8230598c2e79832ee2b8f9f54be76bd0bd94aa-knockout_punches.js\"},{\"name\":null,\"type\":\"js\",\"url\":\"\\/assetserver\\/1f54fee388066eb6f216079e132132e62f39c9da-all.js\"},{\"name\":null,\"type\":\"css\",\"url\":\"\\/assetserver\\/0b66e3a21d894e52e421da78479c9ff2dd423fc1-style.css\"},{\"name\":null,\"type\":\"css\",\"url\":\"\\/assetserver\\/3c7d9e8f7ea75a4abbaaa24bdd527ac7c62490cf-bulma.min.css\"}],\"type\":\"async_block\"},\"id\":\"17352277710509060650\",\"handlers\":{\"options_js\":[\"(function (val){return (val!=this.model[\\\"options_js\\\"]()) ? (this.valueFromJulia[\\\"options_js\\\"]=true, this.model[\\\"options_js\\\"](val)) : undefined})\"],\"index\":[\"(function (val){return (val!=this.model[\\\"index\\\"]()) ? (this.valueFromJulia[\\\"index\\\"]=true, this.model[\\\"index\\\"](val)) : undefined})\"]},\"systemjs_options\":null,\"mount_callbacks\":[\"function () {\\n    var handler = (function (ko, koPunches) {\\n    ko.punches.enableAll();\\n    ko.bindingHandlers.numericValue = {\\n        init: function(element, valueAccessor, allBindings, data, context) {\\n            var stringified = ko.observable(ko.unwrap(valueAccessor()));\\n            stringified.subscribe(function(value) {\\n                var val = parseFloat(value);\\n                if (!isNaN(val)) {\\n                    valueAccessor()(val);\\n                }\\n            });\\n            valueAccessor().subscribe(function(value) {\\n                var str = JSON.stringify(value);\\n                if ((str == \\\"0\\\") && ([\\\"-0\\\", \\\"-0.\\\"].indexOf(stringified()) >= 0))\\n                     return;\\n                 if ([\\\"null\\\", \\\"\\\"].indexOf(str) >= 0)\\n                     return;\\n                stringified(str);\\n            });\\n            ko.applyBindingsToNode(\\n                element,\\n                {\\n                    value: stringified,\\n                    valueUpdate: allBindings.get('valueUpdate'),\\n                },\\n                context,\\n            );\\n        }\\n    };\\n    var json_data = {\\\"options_js\\\":WebIO.getval({\\\"name\\\":\\\"options_js\\\",\\\"scope\\\":\\\"17352277710509060650\\\",\\\"id\\\":\\\"20\\\",\\\"type\\\":\\\"observable\\\"}),\\\"index\\\":WebIO.getval({\\\"name\\\":\\\"index\\\",\\\"scope\\\":\\\"17352277710509060650\\\",\\\"id\\\":\\\"19\\\",\\\"type\\\":\\\"observable\\\"})};\\n    var self = this;\\n    function AppViewModel() {\\n        for (var key in json_data) {\\n            var el = json_data[key];\\n            this[key] = Array.isArray(el) ? ko.observableArray(el) : ko.observable(el);\\n        }\\n        [this[\\\"update\\\"]=function (val) {this.index(val)}]\\n        \\n        [this[\\\"options_js\\\"].subscribe((function (val){!(this.valueFromJulia[\\\"options_js\\\"]) ? (WebIO.setval({\\\"name\\\":\\\"options_js\\\",\\\"scope\\\":\\\"17352277710509060650\\\",\\\"id\\\":\\\"20\\\",\\\"type\\\":\\\"observable\\\"},val)) : undefined; return this.valueFromJulia[\\\"options_js\\\"]=false}),self),this[\\\"index\\\"].subscribe((function (val){!(this.valueFromJulia[\\\"index\\\"]) ? (WebIO.setval({\\\"name\\\":\\\"index\\\",\\\"scope\\\":\\\"17352277710509060650\\\",\\\"id\\\":\\\"19\\\",\\\"type\\\":\\\"observable\\\"},val)) : undefined; return this.valueFromJulia[\\\"index\\\"]=false}),self)]\\n        \\n    }\\n    self.model = new AppViewModel();\\n    self.valueFromJulia = {};\\n    for (var key in json_data) {\\n        self.valueFromJulia[key] = false;\\n    }\\n    ko.applyBindings(self.model, self.dom);\\n}\\n);\\n    (WebIO.importBlock({\\\"data\\\":[{\\\"name\\\":\\\"knockout\\\",\\\"type\\\":\\\"js\\\",\\\"url\\\":\\\"\\/assetserver\\/c59f1a69f8f37ac95e719c439185f863392fe7fb-knockout.js\\\"},{\\\"name\\\":\\\"knockout_punches\\\",\\\"type\\\":\\\"js\\\",\\\"url\\\":\\\"\\/assetserver\\/4b8230598c2e79832ee2b8f9f54be76bd0bd94aa-knockout_punches.js\\\"}],\\\"type\\\":\\\"async_block\\\"})).then((imports) => handler.apply(this, imports));\\n}\\n\"],\"observables\":{\"options_js\":{\"sync\":false,\"id\":\"20\",\"value\":[{\"key\":\"Hide\",\"val\":1,\"id\":\"idjzkzbaQT\"},{\"key\":\"Show\",\"val\":2,\"id\":\"idO0qphdZO\"}]},\"index\":{\"sync\":true,\"id\":\"19\",\"value\":1}}},\"children\":[{\"props\":{\"className\":\"interact-flex-row interact-widget\"},\"nodeType\":\"DOM\",\"type\":\"node\",\"instanceArgs\":{\"namespace\":\"html\",\"tag\":\"div\"},\"children\":[{\"props\":{\"className\":\"interact-flex-row-left\"},\"nodeType\":\"DOM\",\"type\":\"node\",\"instanceArgs\":{\"namespace\":\"html\",\"tag\":\"div\"},\"children\":[{\"props\":{\"className\":\"interact \",\"style\":{\"padding\":\"5px 10px 0px 10px\"}},\"nodeType\":\"DOM\",\"type\":\"node\",\"instanceArgs\":{\"namespace\":\"html\",\"tag\":\"label\"},\"children\":[\"True Params\"]}]},{\"props\":{\"className\":\"interact-flex-row-center\"},\"nodeType\":\"DOM\",\"type\":\"node\",\"instanceArgs\":{\"namespace\":\"html\",\"tag\":\"div\"},\"children\":[{\"props\":{\"attributes\":{\"data-bind\":\"foreach : options_js\"},\"className\":\"buttons has-addons is-centered\"},\"nodeType\":\"DOM\",\"type\":\"node\",\"instanceArgs\":{\"namespace\":\"html\",\"tag\":\"div\"},\"children\":[{\"props\":{\"attributes\":{\"data-bind\":\"click: function (){$root.update(val)}, css: {'is-primary is-selected' : $root.index() == val, 'interact-widget is-medium button ' : true}\"}},\"nodeType\":\"DOM\",\"type\":\"node\",\"instanceArgs\":{\"namespace\":\"html\",\"tag\":\"span\"},\"children\":[{\"props\":{\"attributes\":{\"data-bind\":\"text : key\"}},\"nodeType\":\"DOM\",\"type\":\"node\",\"instanceArgs\":{\"namespace\":\"html\",\"tag\":\"label\"},\"children\":[]}]}]}]},{\"props\":{\"className\":\"interact-flex-row-right\"},\"nodeType\":\"DOM\",\"type\":\"node\",\"instanceArgs\":{\"namespace\":\"html\",\"tag\":\"div\"},\"children\":[{\"props\":{},\"nodeType\":\"DOM\",\"type\":\"node\",\"instanceArgs\":{\"namespace\":\"html\",\"tag\":\"div\"},\"children\":[]}]}]}]}]},\n",
       "        window,\n",
       "    );\n",
       "    })()\n",
       "    </script>\n",
       "</div>\n"
      ],
      "text/plain": [
       "(div { className=\"interact-widget\" }\n",
       "    (div { className=\"interact-flex-row interact-widget\" }\n",
       "    (div { className=\"interact-flex-row-left\" }\n",
       "      (label { className=\"interact \" style=Dict{Any, Any}(:padding => \"5px 10px 0px 10px\") }\n",
       "        \"True Params\"))\n",
       "    (div { className=\"interact-flex-row-center\" }\n",
       "      (div { attributes=\"data-bind\" => \"foreach : options_js\" className=\"buttons has-addons is-centered\" }\n",
       "        (span { attributes=Dict(\"data-bind\" => \"click: function (){\\$root.update(val)}, css: {'is-primary is-selected' : \\$root.index() == val, 'interact-widget is-medium button ' : true}\") }\n",
       "          (label { attributes=Dict(\"data-bind\" => \"text : key\") }))))\n",
       "    (div { className=\"interact-flex-row-right\" }\n",
       "      (div))))"
      ]
     },
     "metadata": {},
     "output_type": "display_data"
    },
    {
     "data": {
      "text/html": [
       "<div\n",
       "    class=\"webio-mountpoint\"\n",
       "    data-webio-mountpoint=\"1399251414115667713\"\n",
       ">\n",
       "    <script>\n",
       "    (function(){\n",
       "    // Some integrations (namely, IJulia/Jupyter) use an alternate render pathway than\n",
       "    // just putting the html on the page. If WebIO isn't defined, then it's pretty likely\n",
       "    // that we're in one of those situations and the integration just isn't installed\n",
       "    // correctly.\n",
       "    if (typeof window.WebIO === \"undefined\") {\n",
       "        document\n",
       "            .querySelector('[data-webio-mountpoint=\"1399251414115667713\"]')\n",
       "            .innerHTML = (\n",
       "                '<div style=\"padding: 1em; background-color: #f8d6da; border: 1px solid #f5c6cb; font-weight: bold;\">' +\n",
       "                '<p><strong>WebIO not detected.</strong></p>' +\n",
       "                '<p>Please read ' +\n",
       "                '<a href=\"https://juliagizmos.github.io/WebIO.jl/latest/troubleshooting/not-detected/\" target=\"_blank\">the troubleshooting guide</a> ' +\n",
       "                'for more information on how to resolve this issue.</p>' +\n",
       "                '<p><a href=\"https://juliagizmos.github.io/WebIO.jl/latest/troubleshooting/not-detected/\" target=\"_blank\">https://juliagizmos.github.io/WebIO.jl/latest/troubleshooting/not-detected/</a></p>' +\n",
       "                '</div>'\n",
       "            );\n",
       "        return;\n",
       "    }\n",
       "    WebIO.mount(\n",
       "        document.querySelector('[data-webio-mountpoint=\"1399251414115667713\"]'),\n",
       "        {\"props\":{},\"nodeType\":\"Scope\",\"type\":\"node\",\"instanceArgs\":{\"imports\":{\"data\":[],\"type\":\"async_block\"},\"id\":\"15166463379083911663\",\"handlers\":{\"obs-output\":[\"function (value, scope) {\\n    scope.setInnerHTML(value);\\n}\\n\"]},\"systemjs_options\":null,\"mount_callbacks\":[],\"observables\":{\"obs-output\":{\"sync\":false,\"id\":\"22\",\"value\":\"<pre>\\\"\\\"<\\/pre>\"}}},\"children\":[{\"props\":{\"className\":\"webio-observable\",\"setInnerHtml\":\"<pre>\\\"\\\"<\\/pre>\"},\"nodeType\":\"DOM\",\"type\":\"node\",\"instanceArgs\":{\"namespace\":\"html\",\"tag\":\"div\"},\"children\":[]}]},\n",
       "        window,\n",
       "    );\n",
       "    })()\n",
       "    </script>\n",
       "</div>\n"
      ],
      "text/plain": [
       "Observable(\"\")\n"
      ]
     },
     "metadata": {},
     "output_type": "display_data"
    }
   ],
   "source": [
    "using Random\n",
    "Random.seed!(2)\n",
    "arms = 3\n",
    "b = Bandit(arms)\n",
    "banditTrial(b)"
   ]
  },
  {
   "cell_type": "markdown",
   "metadata": {},
   "source": [
    "## Undirected Exploration Strategies"
   ]
  },
  {
   "cell_type": "code",
   "execution_count": 3,
   "metadata": {},
   "outputs": [
    {
     "ename": "UndefVarError",
     "evalue": "UndefVarError: `BanditPolicy` not defined",
     "output_type": "error",
     "traceback": [
      "UndefVarError: `BanditPolicy` not defined\n",
      "\n",
      "Stacktrace:\n",
      " [1] top-level scope\n",
      "   @ ~/dev/DMUMat/notebooks/095-Bandits.ipynb:1"
     ]
    }
   ],
   "source": [
    "struct AlwaysPull <: BanditPolicy\n",
    "    arm::Int\n",
    "end\n",
    "\n",
    "arm(b::AlwaysPull, s::BanditStatistics) = b.arm;"
   ]
  },
  {
   "cell_type": "code",
   "execution_count": 4,
   "metadata": {},
   "outputs": [
    {
     "ename": "UndefVarError",
     "evalue": "UndefVarError: `BanditPolicy` not defined",
     "output_type": "error",
     "traceback": [
      "UndefVarError: `BanditPolicy` not defined\n",
      "\n",
      "Stacktrace:\n",
      " [1] top-level scope\n",
      "   @ ~/dev/DMUMat/notebooks/095-Bandits.ipynb:1"
     ]
    }
   ],
   "source": [
    "mutable struct ExploreThenCommit <: BanditPolicy\n",
    "    k::Int\n",
    "    commitment::Int\n",
    "end\n",
    "ExploreThenCommit(k) = ExploreThenCommit(k, 0)\n",
    "function reset!(p::ExploreThenCommit)\n",
    "    p.commitment = 0\n",
    "    return nothing\n",
    "end\n",
    "\n",
    "function arm(b::ExploreThenCommit, s::BanditStatistics) \n",
    "    if sum(s.numTries) < b.k\n",
    "        return rand(1:numArms(s))\n",
    "    elseif sum(s.numTries) == b.k\n",
    "        b.commitment = argmax(winProbabilities(s))\n",
    "        return b.commitment\n",
    "    else\n",
    "        return b.commitment\n",
    "    end\n",
    "end;"
   ]
  },
  {
   "cell_type": "code",
   "execution_count": 5,
   "metadata": {},
   "outputs": [
    {
     "ename": "UndefVarError",
     "evalue": "UndefVarError: `BanditPolicy` not defined",
     "output_type": "error",
     "traceback": [
      "UndefVarError: `BanditPolicy` not defined\n",
      "\n",
      "Stacktrace:\n",
      " [1] top-level scope\n",
      "   @ ~/dev/DMUMat/notebooks/095-Bandits.ipynb:1"
     ]
    }
   ],
   "source": [
    "struct EpsGreedy <: BanditPolicy\n",
    "    eps::Real \n",
    "end\n",
    "\n",
    "function arm(b::EpsGreedy, s::BanditStatistics)\n",
    "    if rand() < b.eps\n",
    "        return rand(1:numArms(s))\n",
    "    else\n",
    "        ps = winProbabilities(s)\n",
    "        return rand(findall(ps .== maximum(ps))) # like argmax but breaks ties randomly\n",
    "    end\n",
    "end;"
   ]
  },
  {
   "cell_type": "code",
   "execution_count": 6,
   "metadata": {
    "scrolled": false
   },
   "outputs": [
    {
     "data": {
      "text/plain": [
       "10-element Vector{Float64}:\n",
       " 0.0491718221481211\n",
       " 0.11907881640750706\n",
       " 0.3932710232252806\n",
       " 0.024094310524527707\n",
       " 0.6918572875342215\n",
       " 0.7675180540873912\n",
       " 0.08725304891274233\n",
       " 0.8557176841095734\n",
       " 0.8025607099234905\n",
       " 0.661425351684768"
      ]
     },
     "metadata": {},
     "output_type": "display_data"
    },
    {
     "ename": "UndefVarError",
     "evalue": "UndefVarError: `Bandit` not defined",
     "output_type": "error",
     "traceback": [
      "UndefVarError: `Bandit` not defined\n",
      "\n",
      "Stacktrace:\n",
      " [1] top-level scope\n",
      "   @ ~/dev/DMUMat/notebooks/095-Bandits.ipynb:5"
     ]
    }
   ],
   "source": [
    "steps = 50\n",
    "iterations = 10000\n",
    "params = rand(Random.Xoshiro(1), 10)\n",
    "display(params)\n",
    "bandit = Bandit(params)\n",
    "# bandit = Bandit(collect(1:-0.2:0.1))\n",
    "@manipulate for epsgreedy in exp10.(-3:0.2:0), commit in 0:10:50\n",
    "    policies = [\n",
    "        \"explore-commit\" => ExploreThenCommit(commit),\n",
    "        \"eps greedy\" => EpsGreedy(epsgreedy),\n",
    "    ]\n",
    "    curves = [Plots.Linear([1,steps], fill(maximum(params),2), legendentry=\"best arm\", style=\"very thick, dashed\", mark=\"none\")]\n",
    "    append!(curves, learningCurves(bandit, policies, steps=steps, iterations=iterations))\n",
    "    Axis(curves, style=\"legend pos=south east\", ymin=0, ymax=1, xmin=0, xmax=steps, xlabel=\"Pulls\", ylabel=\"Average success\", width=\"15cm\", height=\"10cm\")\n",
    "end"
   ]
  },
  {
   "cell_type": "markdown",
   "metadata": {},
   "source": [
    "## Directed (non-Bayesian) Exploration Strategies"
   ]
  },
  {
   "cell_type": "code",
   "execution_count": 7,
   "metadata": {},
   "outputs": [
    {
     "ename": "UndefVarError",
     "evalue": "UndefVarError: `BanditPolicy` not defined",
     "output_type": "error",
     "traceback": [
      "UndefVarError: `BanditPolicy` not defined\n",
      "\n",
      "Stacktrace:\n",
      " [1] top-level scope\n",
      "   @ ~/dev/DMUMat/notebooks/095-Bandits.ipynb:1"
     ]
    }
   ],
   "source": [
    "struct SoftMax <: BanditPolicy\n",
    "    precision::Float64 \n",
    "end\n",
    "\n",
    "function arm(b::SoftMax, s::BanditStatistics)\n",
    "    p = exp.(b.precision * winProbabilities(s))\n",
    "    p = p / sum(p)\n",
    "    D = Categorical(p)\n",
    "    return rand(D)\n",
    "end;"
   ]
  },
  {
   "cell_type": "code",
   "execution_count": 8,
   "metadata": {},
   "outputs": [
    {
     "ename": "UndefVarError",
     "evalue": "UndefVarError: `BanditPolicy` not defined",
     "output_type": "error",
     "traceback": [
      "UndefVarError: `BanditPolicy` not defined\n",
      "\n",
      "Stacktrace:\n",
      " [1] top-level scope\n",
      "   @ ~/dev/DMUMat/notebooks/095-Bandits.ipynb:1"
     ]
    }
   ],
   "source": [
    "struct UCB <: BanditPolicy\n",
    "    c::Float64\n",
    "end\n",
    "    \n",
    "function arm(p::UCB, s::BanditStatistics)\n",
    "    logn = log(max(2, sum(s.numTries)))\n",
    "    ucbs = winProbabilities(s) .+ p.c*sqrt.(logn./s.numTries)\n",
    "    return rand(findall(ucbs .== maximum(ucbs))) # like argmax but breaks ties randomly\n",
    "end    "
   ]
  },
  {
   "cell_type": "code",
   "execution_count": 9,
   "metadata": {},
   "outputs": [
    {
     "data": {
      "text/plain": [
       "10-element Vector{Float64}:\n",
       " 0.0491718221481211\n",
       " 0.11907881640750706\n",
       " 0.3932710232252806\n",
       " 0.024094310524527707\n",
       " 0.6918572875342215\n",
       " 0.7675180540873912\n",
       " 0.08725304891274233\n",
       " 0.8557176841095734\n",
       " 0.8025607099234905\n",
       " 0.661425351684768"
      ]
     },
     "metadata": {},
     "output_type": "display_data"
    },
    {
     "ename": "UndefVarError",
     "evalue": "UndefVarError: `Bandit` not defined",
     "output_type": "error",
     "traceback": [
      "UndefVarError: `Bandit` not defined\n",
      "\n",
      "Stacktrace:\n",
      " [1] top-level scope\n",
      "   @ ~/dev/DMUMat/notebooks/095-Bandits.ipynb:5"
     ]
    }
   ],
   "source": [
    "steps = 100\n",
    "iterations = 1000\n",
    "params = rand(Random.Xoshiro(1), 10)\n",
    "display(params)\n",
    "bandit = Bandit(params)\n",
    "# bandit = Bandit(collect(1:-0.2:0.1))\n",
    "@manipulate for epsgreedy in exp10.(-3:0.2:0), softmax in 0:5:40, ucb_c in exp10.(range(-2, 0, 8))\n",
    "    policies = [\n",
    "        \"softmax ($softmax)\" => SoftMax(softmax),\n",
    "        \"eps greedy ($epsgreedy)\" => EpsGreedy(epsgreedy),\n",
    "        \"ucb ($ucb_c)\" => UCB(ucb_c),\n",
    "    ]\n",
    "    curves = [Plots.Linear([1,steps], fill(maximum(params),2), legendentry=\"best arm\", style=\"very thick, dashed\", mark=\"none\")]\n",
    "    append!(curves, learningCurves(bandit, policies, steps=steps, iterations=iterations))\n",
    "    Axis(curves, style=\"legend pos=south east\", ymin=0, ymax=1, xmin=0, xmax=steps, xlabel=\"Pulls\", ylabel=\"Average success\", width=\"15cm\", height=\"10cm\")\n",
    "end"
   ]
  },
  {
   "cell_type": "markdown",
   "metadata": {},
   "source": [
    "## Bayesian Model Estimation"
   ]
  },
  {
   "cell_type": "code",
   "execution_count": 10,
   "metadata": {},
   "outputs": [
    {
     "ename": "UndefVarError",
     "evalue": "UndefVarError: `Bandit` not defined",
     "output_type": "error",
     "traceback": [
      "UndefVarError: `Bandit` not defined\n",
      "\n",
      "Stacktrace:\n",
      " [1] top-level scope\n",
      "   @ ~/dev/DMUMat/notebooks/095-Bandits.ipynb:3"
     ]
    }
   ],
   "source": [
    "Random.seed!(3)\n",
    "arms = 2\n",
    "b = Bandit(arms)\n",
    "banditEstimation(b)"
   ]
  },
  {
   "cell_type": "code",
   "execution_count": 11,
   "metadata": {},
   "outputs": [
    {
     "ename": "UndefVarError",
     "evalue": "UndefVarError: `BanditPolicy` not defined",
     "output_type": "error",
     "traceback": [
      "UndefVarError: `BanditPolicy` not defined\n",
      "\n",
      "Stacktrace:\n",
      " [1] top-level scope\n",
      "   @ ~/dev/DMUMat/notebooks/095-Bandits.ipynb:2"
     ]
    }
   ],
   "source": [
    "# Select arm with highest alpha upper confidence bound\n",
    "struct IntervalExploration <: BanditPolicy\n",
    "    alpha::Real\n",
    "end\n",
    "\n",
    "function arm(b::IntervalExploration, s::BanditStatistics)\n",
    "    qs = [quantile(Beta(s.numWins[i] + 1, s.numTries[i] - s.numWins[i] + 1), b.alpha) for i in 1:length(s.numWins)]\n",
    "    return rand(findall(qs .== maximum(qs))) # like argmax but breaks ties randomly\n",
    "end;"
   ]
  },
  {
   "cell_type": "code",
   "execution_count": 12,
   "metadata": {},
   "outputs": [
    {
     "ename": "UndefVarError",
     "evalue": "UndefVarError: `BanditPolicy` not defined",
     "output_type": "error",
     "traceback": [
      "UndefVarError: `BanditPolicy` not defined\n",
      "\n",
      "Stacktrace:\n",
      " [1] top-level scope\n",
      "   @ ~/dev/DMUMat/notebooks/095-Bandits.ipynb:1"
     ]
    }
   ],
   "source": [
    "struct ThompsonSampling <: BanditPolicy end\n",
    "\n",
    "function arm(p::ThompsonSampling, s::BanditStatistics)\n",
    "    params = rand.([Beta(s.numWins[i] + 1, s.numTries[i] - s.numWins[i] + 1) for i in 1:length(s.numWins)])\n",
    "    return argmax(params)\n",
    "end"
   ]
  },
  {
   "cell_type": "code",
   "execution_count": 13,
   "metadata": {},
   "outputs": [
    {
     "data": {
      "text/plain": [
       "10-element Vector{Float64}:\n",
       " 0.0491718221481211\n",
       " 0.11907881640750706\n",
       " 0.3932710232252806\n",
       " 0.024094310524527707\n",
       " 0.6918572875342215\n",
       " 0.7675180540873912\n",
       " 0.08725304891274233\n",
       " 0.8557176841095734\n",
       " 0.8025607099234905\n",
       " 0.661425351684768"
      ]
     },
     "metadata": {},
     "output_type": "display_data"
    },
    {
     "ename": "UndefVarError",
     "evalue": "UndefVarError: `Bandit` not defined",
     "output_type": "error",
     "traceback": [
      "UndefVarError: `Bandit` not defined\n",
      "\n",
      "Stacktrace:\n",
      " [1] top-level scope\n",
      "   @ ~/dev/DMUMat/notebooks/095-Bandits.ipynb:5"
     ]
    }
   ],
   "source": [
    "steps = 100\n",
    "iterations = 1000\n",
    "params = rand(Random.Xoshiro(1), 10)\n",
    "display(params)\n",
    "bandit = Bandit(params)\n",
    "# bandit = Bandit(collect(1:-0.2:0.1))\n",
    "@manipulate for epsgreedy in exp10.(-3:0.2:0), interval in 0.5:0.05:1, ucb_c in exp10.(range(-2, 0, 8))\n",
    "    policies = [\n",
    "        # \"eps greedy ($epsgreedy)\" => EpsGreedy(epsgreedy),\n",
    "        # \"ucb ($ucb_c)\" => UCB(ucb_c),\n",
    "        \"interval\" => IntervalExploration(interval),\n",
    "        \"thompson sampling\" => ThompsonSampling(),\n",
    "    ]\n",
    "    curves = [Plots.Linear([1,steps], fill(maximum(params),2), legendentry=\"best arm\", style=\"very thick, dashed\", mark=\"none\")]\n",
    "    append!(curves, learningCurves(bandit, policies, steps=steps, iterations=iterations))\n",
    "    Axis(curves, style=\"legend pos=south east\", ymin=0, ymax=1, xmin=0, xmax=steps, xlabel=\"Pulls\", ylabel=\"Average success\", width=\"15cm\", height=\"10cm\")\n",
    "end"
   ]
  },
  {
   "cell_type": "code",
   "execution_count": 14,
   "metadata": {},
   "outputs": [],
   "source": []
  }
 ],
 "metadata": {
  "@webio": {
   "lastCommId": "fc822a9d60be4a4f854ff5bdc456b129",
   "lastKernelId": "7cb04cb2-1f3a-400e-834c-f3d60aed3212"
  },
  "anaconda-cloud": {},
  "kernelspec": {
   "display_name": "Julia 1.10.2",
   "language": "julia",
   "name": "julia-1.10"
  },
  "language_info": {
   "file_extension": ".jl",
   "mimetype": "application/julia",
   "name": "julia",
   "version": "1.10.2"
  },
  "widgets": {
   "state": {
    "0e40d84f-ddb6-4ee1-8db6-a3bc8441d940": {
     "views": [
      {
       "cell_index": 3
      }
     ]
    },
    "18eb3a08-fff6-4cf8-aa7b-6fa1e51d7a20": {
     "views": [
      {
       "cell_index": 3
      }
     ]
    },
    "1d46ad8c-32f7-484a-8d3b-b2bed71d0614": {
     "views": [
      {
       "cell_index": 3
      }
     ]
    },
    "32f8a69d-a043-4097-a219-ad7ca74cc8de": {
     "views": [
      {
       "cell_index": 5
      }
     ]
    },
    "427bd531-52fb-4cc5-933c-02548bccf941": {
     "views": [
      {
       "cell_index": 10
      }
     ]
    },
    "434aff25-b296-444f-9302-4384eb672f20": {
     "views": [
      {
       "cell_index": 3
      }
     ]
    },
    "56d454f0-3968-4acf-a6ec-2d981cfdda41": {
     "views": [
      {
       "cell_index": 5
      }
     ]
    },
    "5811ad0d-93de-4a1c-a3ad-c01cca0e33d1": {
     "views": [
      {
       "cell_index": 3
      }
     ]
    },
    "5c0352ac-3c9a-476f-86b1-61add24305ce": {
     "views": [
      {
       "cell_index": 5
      }
     ]
    },
    "72f214ab-cea5-4048-b06f-6bb109825a3b": {
     "views": [
      {
       "cell_index": 5
      }
     ]
    },
    "74a51d51-fab5-4c88-b896-bfeb3a16d921": {
     "views": [
      {
       "cell_index": 10
      }
     ]
    },
    "828887f2-44eb-479f-8dbe-0c027d557c48": {
     "views": [
      {
       "cell_index": 10
      }
     ]
    },
    "9b4808d9-8bfa-41c8-9b4a-fe7918a54a03": {
     "views": [
      {
       "cell_index": 3
      }
     ]
    },
    "ca5363b2-0c70-4c86-8be5-c67f95dbf98f": {
     "views": [
      {
       "cell_index": 3
      }
     ]
    },
    "cb61d392-ec45-4bcc-b308-5332e560ac5b": {
     "views": [
      {
       "cell_index": 10
      }
     ]
    },
    "da711f52-4a08-4a83-8294-3f1263fc18fe": {
     "views": [
      {
       "cell_index": 3
      }
     ]
    },
    "dd506f94-f99b-46e1-8086-12e7edd51b47": {
     "views": [
      {
       "cell_index": 10
      }
     ]
    },
    "e0fc5f15-e407-4b0e-853f-e873c65200c2": {
     "views": [
      {
       "cell_index": 3
      }
     ]
    },
    "f81d86f3-720c-4a05-8685-290724eef008": {
     "views": [
      {
       "cell_index": 3
      }
     ]
    }
   },
   "version": "1.2.0"
  }
 },
 "nbformat": 4,
 "nbformat_minor": 1
}
